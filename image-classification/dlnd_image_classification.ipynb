{
 "cells": [
  {
   "cell_type": "markdown",
   "metadata": {
    "collapsed": true,
    "deletable": true,
    "editable": true
   },
   "source": [
    "# Image Classification\n",
    "In this project, you'll classify images from the [CIFAR-10 dataset](https://www.cs.toronto.edu/~kriz/cifar.html).  The dataset consists of airplanes, dogs, cats, and other objects. You'll preprocess the images, then train a convolutional neural network on all the samples. The images need to be normalized and the labels need to be one-hot encoded.  You'll get to apply what you learned and build a convolutional, max pooling, dropout, and fully connected layers.  At the end, you'll get to see your neural network's predictions on the sample images.\n",
    "## Get the Data\n",
    "Run the following cell to download the [CIFAR-10 dataset for python](https://www.cs.toronto.edu/~kriz/cifar-10-python.tar.gz)."
   ]
  },
  {
   "cell_type": "code",
   "execution_count": 1,
   "metadata": {
    "collapsed": false,
    "deletable": true,
    "editable": true
   },
   "outputs": [
    {
     "name": "stdout",
     "output_type": "stream",
     "text": [
      "All files found!\n"
     ]
    }
   ],
   "source": [
    "\"\"\"\n",
    "DON'T MODIFY ANYTHING IN THIS CELL THAT IS BELOW THIS LINE\n",
    "\"\"\"\n",
    "from urllib.request import urlretrieve\n",
    "from os.path import isfile, isdir\n",
    "from tqdm import tqdm\n",
    "import problem_unittests as tests\n",
    "import tarfile\n",
    "\n",
    "cifar10_dataset_folder_path = 'cifar-10-batches-py'\n",
    "\n",
    "# Use Floyd's cifar-10 dataset if present\n",
    "floyd_cifar10_location = '/input/cifar-10/python.tar.gz'\n",
    "if isfile(floyd_cifar10_location):\n",
    "    tar_gz_path = floyd_cifar10_location\n",
    "else:\n",
    "    tar_gz_path = 'cifar-10-python.tar.gz'\n",
    "\n",
    "class DLProgress(tqdm):\n",
    "    last_block = 0\n",
    "\n",
    "    def hook(self, block_num=1, block_size=1, total_size=None):\n",
    "        self.total = total_size\n",
    "        self.update((block_num - self.last_block) * block_size)\n",
    "        self.last_block = block_num\n",
    "\n",
    "if not isfile(tar_gz_path):\n",
    "    with DLProgress(unit='B', unit_scale=True, miniters=1, desc='CIFAR-10 Dataset') as pbar:\n",
    "        urlretrieve(\n",
    "            'https://www.cs.toronto.edu/~kriz/cifar-10-python.tar.gz',\n",
    "            tar_gz_path,\n",
    "            pbar.hook)\n",
    "\n",
    "if not isdir(cifar10_dataset_folder_path):\n",
    "    with tarfile.open(tar_gz_path) as tar:\n",
    "        tar.extractall()\n",
    "        tar.close()\n",
    "\n",
    "\n",
    "tests.test_folder_path(cifar10_dataset_folder_path)"
   ]
  },
  {
   "cell_type": "markdown",
   "metadata": {
    "deletable": true,
    "editable": true
   },
   "source": [
    "## Explore the Data\n",
    "The dataset is broken into batches to prevent your machine from running out of memory.  The CIFAR-10 dataset consists of 5 batches, named `data_batch_1`, `data_batch_2`, etc.. Each batch contains the labels and images that are one of the following:\n",
    "* airplane\n",
    "* automobile\n",
    "* bird\n",
    "* cat\n",
    "* deer\n",
    "* dog\n",
    "* frog\n",
    "* horse\n",
    "* ship\n",
    "* truck\n",
    "\n",
    "Understanding a dataset is part of making predictions on the data.  Play around with the code cell below by changing the `batch_id` and `sample_id`. The `batch_id` is the id for a batch (1-5). The `sample_id` is the id for a image and label pair in the batch.\n",
    "\n",
    "Ask yourself \"What are all possible labels?\", \"What is the range of values for the image data?\", \"Are the labels in order or random?\".  Answers to questions like these will help you preprocess the data and end up with better predictions."
   ]
  },
  {
   "cell_type": "code",
   "execution_count": 2,
   "metadata": {
    "collapsed": false,
    "deletable": true,
    "editable": true
   },
   "outputs": [
    {
     "name": "stdout",
     "output_type": "stream",
     "text": [
      "\n",
      "Stats of batch 3:\n",
      "Samples: 10000\n",
      "Label Counts: {0: 994, 1: 1042, 2: 965, 3: 997, 4: 990, 5: 1029, 6: 978, 7: 1015, 8: 961, 9: 1029}\n",
      "First 20 Labels: [8, 5, 0, 6, 9, 2, 8, 3, 6, 2, 7, 4, 6, 9, 0, 0, 7, 3, 7, 2]\n",
      "\n",
      "Example of Image 60:\n",
      "Image - Min Value: 8 Max Value: 255\n",
      "Image - Shape: (32, 32, 3)\n",
      "Label - Label Id: 4 Name: deer\n"
     ]
    },
    {
     "data": {
      "image/png": "[encoded data removed]",
      "text/plain": [
       "<matplotlib.figure.Figure at 0x7f4574768710>"
      ]
     },
     "metadata": {
      "image/png": {
       "height": 250,
       "width": 253
      }
     },
     "output_type": "display_data"
    }
   ],
   "source": [
    "%matplotlib inline\n",
    "%config InlineBackend.figure_format = 'retina'\n",
    "\n",
    "import helper\n",
    "import numpy as np\n",
    "\n",
    "# Explore the dataset\n",
    "batch_id = 3\n",
    "sample_id = 60\n",
    "helper.display_stats(cifar10_dataset_folder_path, batch_id, sample_id)"
   ]
  },
  {
   "cell_type": "markdown",
   "metadata": {
    "deletable": true,
    "editable": true
   },
   "source": [
    "## Implement Preprocess Functions\n",
    "### Normalize\n",
    "In the cell below, implement the `normalize` function to take in image data, `x`, and return it as a normalized Numpy array. The values should be in the range of 0 to 1, inclusive.  The return object should be the same shape as `x`."
   ]
  },
  {
   "cell_type": "code",
   "execution_count": 3,
   "metadata": {
    "collapsed": false,
    "deletable": true,
    "editable": true
   },
   "outputs": [
    {
     "name": "stdout",
     "output_type": "stream",
     "text": [
      "Tests Passed\n"
     ]
    }
   ],
   "source": [
    "def normalize(x):\n",
    "    \"\"\"\n",
    "    Normalize a list of sample image data in the range of 0 to 1\n",
    "    : x: List of image data.  The image shape is (32, 32, 3)\n",
    "    : return: Numpy array of normalize data\n",
    "    \"\"\"\n",
    "    return x / 255.\n",
    "\n",
    "\n",
    "\"\"\"\n",
    "DON'T MODIFY ANYTHING IN THIS CELL THAT IS BELOW THIS LINE\n",
    "\"\"\"\n",
    "tests.test_normalize(normalize)"
   ]
  },
  {
   "cell_type": "markdown",
   "metadata": {
    "deletable": true,
    "editable": true
   },
   "source": [
    "### One-hot encode\n",
    "Just like the previous code cell, you'll be implementing a function for preprocessing.  This time, you'll implement the `one_hot_encode` function. The input, `x`, are a list of labels.  Implement the function to return the list of labels as One-Hot encoded Numpy array.  The possible values for labels are 0 to 9. The one-hot encoding function should return the same encoding for each value between each call to `one_hot_encode`.  Make sure to save the map of encodings outside the function.\n",
    "\n",
    "Hint: Don't reinvent the wheel."
   ]
  },
  {
   "cell_type": "code",
   "execution_count": 4,
   "metadata": {
    "collapsed": false,
    "deletable": true,
    "editable": true
   },
   "outputs": [
    {
     "name": "stdout",
     "output_type": "stream",
     "text": [
      "Tests Passed\n"
     ]
    }
   ],
   "source": [
    "def one_hot_encode(x):\n",
    "    \"\"\"\n",
    "    One hot encode a list of sample labels. Return a one-hot encoded vector for each label.\n",
    "    : x: List of sample Labels\n",
    "    : return: Numpy array of one-hot encoded labels\n",
    "    \"\"\"\n",
    "    one_hot = np.zeros([len(x), 10])\n",
    "    for i, label in enumerate(x):\n",
    "        one_hot[i, label] = 1.\n",
    "    return one_hot\n",
    "\n",
    "\n",
    "\"\"\"\n",
    "DON'T MODIFY ANYTHING IN THIS CELL THAT IS BELOW THIS LINE\n",
    "\"\"\"\n",
    "tests.test_one_hot_encode(one_hot_encode)"
   ]
  },
  {
   "cell_type": "markdown",
   "metadata": {
    "deletable": true,
    "editable": true
   },
   "source": [
    "### Randomize Data\n",
    "As you saw from exploring the data above, the order of the samples are randomized.  It doesn't hurt to randomize it again, but you don't need to for this dataset."
   ]
  },
  {
   "cell_type": "markdown",
   "metadata": {
    "deletable": true,
    "editable": true
   },
   "source": [
    "## Preprocess all the data and save it\n",
    "Running the code cell below will preprocess all the CIFAR-10 data and save it to file. The code below also uses 10% of the training data for validation."
   ]
  },
  {
   "cell_type": "code",
   "execution_count": 5,
   "metadata": {
    "collapsed": false,
    "deletable": true,
    "editable": true
   },
   "outputs": [],
   "source": [
    "\"\"\"\n",
    "DON'T MODIFY ANYTHING IN THIS CELL\n",
    "\"\"\"\n",
    "# Preprocess Training, Validation, and Testing Data\n",
    "helper.preprocess_and_save_data(cifar10_dataset_folder_path, normalize, one_hot_encode)"
   ]
  },
  {
   "cell_type": "markdown",
   "metadata": {
    "deletable": true,
    "editable": true
   },
   "source": [
    "# Check Point\n",
    "This is your first checkpoint.  If you ever decide to come back to this notebook or have to restart the notebook, you can start from here.  The preprocessed data has been saved to disk."
   ]
  },
  {
   "cell_type": "code",
   "execution_count": 6,
   "metadata": {
    "collapsed": true,
    "deletable": true,
    "editable": true
   },
   "outputs": [],
   "source": [
    "\"\"\"\n",
    "DON'T MODIFY ANYTHING IN THIS CELL\n",
    "\"\"\"\n",
    "import pickle\n",
    "import problem_unittests as tests\n",
    "import helper\n",
    "\n",
    "# Load the Preprocessed Validation data\n",
    "valid_features, valid_labels = pickle.load(open('preprocess_validation.p', mode='rb'))"
   ]
  },
  {
   "cell_type": "markdown",
   "metadata": {
    "deletable": true,
    "editable": true
   },
   "source": [
    "## Build the network\n",
    "For the neural network, you'll build each layer into a function.  Most of the code you've seen has been outside of functions. To test your code more thoroughly, we require that you put each layer in a function.  This allows us to give you better feedback and test for simple mistakes using our unittests before you submit your project.\n",
    "\n",
    ">**Note:** If you're finding it hard to dedicate enough time for this course each week, we've provided a small shortcut to this part of the project. In the next couple of problems, you'll have the option to use classes from the [TensorFlow Layers](https://www.tensorflow.org/api_docs/python/tf/layers) or [TensorFlow Layers (contrib)](https://www.tensorflow.org/api_guides/python/contrib.layers) packages to build each layer, except the layers you build in the \"Convolutional and Max Pooling Layer\" section.  TF Layers is similar to Keras's and TFLearn's abstraction to layers, so it's easy to pickup.\n",
    "\n",
    ">However, if you would like to get the most out of this course, try to solve all the problems _without_ using anything from the TF Layers packages. You **can** still use classes from other packages that happen to have the same name as ones you find in TF Layers! For example, instead of using the TF Layers version of the `conv2d` class, [tf.layers.conv2d](https://www.tensorflow.org/api_docs/python/tf/layers/conv2d), you would want to use the TF Neural Network version of `conv2d`, [tf.nn.conv2d](https://www.tensorflow.org/api_docs/python/tf/nn/conv2d). \n",
    "\n",
    "Let's begin!\n",
    "\n",
    "### Input\n",
    "The neural network needs to read the image data, one-hot encoded labels, and dropout keep probability. Implement the following functions\n",
    "* Implement `neural_net_image_input`\n",
    " * Return a [TF Placeholder](https://www.tensorflow.org/api_docs/python/tf/placeholder)\n",
    " * Set the shape using `image_shape` with batch size set to `None`.\n",
    " * Name the TensorFlow placeholder \"x\" using the TensorFlow `name` parameter in the [TF Placeholder](https://www.tensorflow.org/api_docs/python/tf/placeholder).\n",
    "* Implement `neural_net_label_input`\n",
    " * Return a [TF Placeholder](https://www.tensorflow.org/api_docs/python/tf/placeholder)\n",
    " * Set the shape using `n_classes` with batch size set to `None`.\n",
    " * Name the TensorFlow placeholder \"y\" using the TensorFlow `name` parameter in the [TF Placeholder](https://www.tensorflow.org/api_docs/python/tf/placeholder).\n",
    "* Implement `neural_net_keep_prob_input`\n",
    " * Return a [TF Placeholder](https://www.tensorflow.org/api_docs/python/tf/placeholder) for dropout keep probability.\n",
    " * Name the TensorFlow placeholder \"keep_prob\" using the TensorFlow `name` parameter in the [TF Placeholder](https://www.tensorflow.org/api_docs/python/tf/placeholder).\n",
    "\n",
    "These names will be used at the end of the project to load your saved model.\n",
    "\n",
    "Note: `None` for shapes in TensorFlow allow for a dynamic size."
   ]
  },
  {
   "cell_type": "code",
   "execution_count": 7,
   "metadata": {
    "collapsed": false,
    "deletable": true,
    "editable": true
   },
   "outputs": [
    {
     "name": "stdout",
     "output_type": "stream",
     "text": [
      "Image Input Tests Passed.\n",
      "Label Input Tests Passed.\n",
      "Keep Prob Tests Passed.\n"
     ]
    }
   ],
   "source": [
    "import tensorflow as tf\n",
    "\n",
    "def neural_net_image_input(image_shape):\n",
    "    \"\"\"\n",
    "    Return a Tensor for a batch of image input\n",
    "    : image_shape: Shape of the images\n",
    "    : return: Tensor for image input.\n",
    "    \"\"\"\n",
    "    # TODO: Implement Function\n",
    "    return tf.placeholder(tf.float32, shape=[None] + list(image_shape), name=\"x\")\n",
    "\n",
    "\n",
    "def neural_net_label_input(n_classes):\n",
    "    \"\"\"\n",
    "    Return a Tensor for a batch of label input\n",
    "    : n_classes: Number of classes\n",
    "    : return: Tensor for label input.\n",
    "    \"\"\"\n",
    "    # TODO: Implement Function\n",
    "    return tf.placeholder(tf.float32, shape=[None, n_classes], name=\"y\")\n",
    "\n",
    "\n",
    "def neural_net_keep_prob_input():\n",
    "    \"\"\"\n",
    "    Return a Tensor for keep probability\n",
    "    : return: Tensor for keep probability.\n",
    "    \"\"\"\n",
    "    # TODO: Implement Function\n",
    "    return tf.placeholder(tf.float32, name=\"keep_prob\")\n",
    "\n",
    "\n",
    "\"\"\"\n",
    "DON'T MODIFY ANYTHING IN THIS CELL THAT IS BELOW THIS LINE\n",
    "\"\"\"\n",
    "tf.reset_default_graph()\n",
    "tests.test_nn_image_inputs(neural_net_image_input)\n",
    "tests.test_nn_label_inputs(neural_net_label_input)\n",
    "tests.test_nn_keep_prob_inputs(neural_net_keep_prob_input)"
   ]
  },
  {
   "cell_type": "markdown",
   "metadata": {
    "deletable": true,
    "editable": true
   },
   "source": [
    "### Convolution and Max Pooling Layer\n",
    "Convolution layers have a lot of success with images. For this code cell, you should implement the function `conv2d_maxpool` to apply convolution then max pooling:\n",
    "* Create the weight and bias using `conv_ksize`, `conv_num_outputs` and the shape of `x_tensor`.\n",
    "* Apply a convolution to `x_tensor` using weight and `conv_strides`.\n",
    " * We recommend you use same padding, but you're welcome to use any padding.\n",
    "* Add bias\n",
    "* Add a nonlinear activation to the convolution.\n",
    "* Apply Max Pooling using `pool_ksize` and `pool_strides`.\n",
    " * We recommend you use same padding, but you're welcome to use any padding.\n",
    "\n",
    "**Note:** You **can't** use [TensorFlow Layers](https://www.tensorflow.org/api_docs/python/tf/layers) or [TensorFlow Layers (contrib)](https://www.tensorflow.org/api_guides/python/contrib.layers) for **this** layer, but you can still use TensorFlow's [Neural Network](https://www.tensorflow.org/api_docs/python/tf/nn) package. You may still use the shortcut option for all the **other** layers."
   ]
  },
  {
   "cell_type": "code",
   "execution_count": 8,
   "metadata": {
    "collapsed": false,
    "deletable": true,
    "editable": true
   },
   "outputs": [
    {
     "name": "stdout",
     "output_type": "stream",
     "text": [
      "Tests Passed\n"
     ]
    }
   ],
   "source": [
    "import math\n",
    "\n",
    "def conv2d_maxpool(x_tensor, conv_num_outputs, conv_ksize, conv_strides, pool_ksize, pool_strides):\n",
    "    \"\"\"\n",
    "    Apply convolution then max pooling to x_tensor\n",
    "    :param x_tensor: TensorFlow Tensor\n",
    "    :param conv_num_outputs: Number of outputs for the convolutional layer\n",
    "    :param conv_ksize: kernal size 2-D Tuple for the convolutional layer\n",
    "    :param conv_strides: Stride 2-D Tuple for convolution\n",
    "    :param pool_ksize: kernal size 2-D Tuple for pool\n",
    "    :param pool_strides: Stride 2-D Tuple for pool\n",
    "    : return: A tensor that represents convolution and max pooling of x_tensor\n",
    "    \"\"\"\n",
    "    # TODO: Implement Function\n",
    "    shape = x_tensor.get_shape().as_list()\n",
    "    \n",
    "    # Weight and bias\n",
    "    # stddev for tf.truncated_normal is 1 / (2 * sqrt(y)) because tf.truncated_normal\n",
    "    # except that values whose magnitude is more than 2 standard deviations.\n",
    "    stddev = 1. / (2. * math.sqrt(shape[1] * shape[2] * shape[3]))\n",
    "    weight = tf.Variable(tf.truncated_normal(\n",
    "        [conv_ksize[0], conv_ksize[1], shape[3], conv_num_outputs],\n",
    "        stddev=stddev\n",
    "    ))\n",
    "    bias = tf.Variable(tf.truncated_normal(\n",
    "        [conv_num_outputs],\n",
    "        stddev=stddev\n",
    "    ))\n",
    "    \n",
    "    # Apply Convolution\n",
    "    conv_layer = tf.nn.conv2d(\n",
    "        x_tensor,\n",
    "        weight,\n",
    "        strides=[1, conv_strides[0], conv_strides[1], 1],\n",
    "        padding='SAME'\n",
    "    )\n",
    "    \n",
    "    # Add bias\n",
    "    conv_layer = tf.nn.bias_add(conv_layer, bias)\n",
    "\n",
    "    # Apply activation function\n",
    "    conv_layer = tf.nn.relu(conv_layer)\n",
    "    \n",
    "    # Apply Max Pooling\n",
    "    conv_layer = tf.nn.max_pool(\n",
    "        conv_layer,\n",
    "        ksize=[1, pool_ksize[0], pool_ksize[1], 1],\n",
    "        strides=[1, pool_strides[0], pool_strides[1], 1],\n",
    "        padding='SAME')\n",
    "    \n",
    "    return conv_layer\n",
    "\n",
    "\n",
    "\"\"\"\n",
    "DON'T MODIFY ANYTHING IN THIS CELL THAT IS BELOW THIS LINE\n",
    "\"\"\"\n",
    "tests.test_con_pool(conv2d_maxpool)"
   ]
  },
  {
   "cell_type": "markdown",
   "metadata": {
    "deletable": true,
    "editable": true
   },
   "source": [
    "### Flatten Layer\n",
    "Implement the `flatten` function to change the dimension of `x_tensor` from a 4-D tensor to a 2-D tensor.  The output should be the shape (*Batch Size*, *Flattened Image Size*). Shortcut option: you can use classes from the [TensorFlow Layers](https://www.tensorflow.org/api_docs/python/tf/layers) or [TensorFlow Layers (contrib)](https://www.tensorflow.org/api_guides/python/contrib.layers) packages for this layer. For more of a challenge, only use other TensorFlow packages."
   ]
  },
  {
   "cell_type": "code",
   "execution_count": 9,
   "metadata": {
    "collapsed": false,
    "deletable": true,
    "editable": true
   },
   "outputs": [
    {
     "name": "stdout",
     "output_type": "stream",
     "text": [
      "Tests Passed\n"
     ]
    }
   ],
   "source": [
    "def flatten(x_tensor):\n",
    "    \"\"\"\n",
    "    Flatten x_tensor to (Batch Size, Flattened Image Size)\n",
    "    : x_tensor: A tensor of size (Batch Size, ...), where ... are the image dimensions.\n",
    "    : return: A tensor of size (Batch Size, Flattened Image Size).\n",
    "    \"\"\"\n",
    "    # TODO: Implement Function\n",
    "    shape = x_tensor.get_shape().as_list()\n",
    "    return tf.reshape(x_tensor, [-1, shape[1] * shape[2] * shape[3]])\n",
    "\n",
    "\n",
    "\"\"\"\n",
    "DON'T MODIFY ANYTHING IN THIS CELL THAT IS BELOW THIS LINE\n",
    "\"\"\"\n",
    "tests.test_flatten(flatten)"
   ]
  },
  {
   "cell_type": "markdown",
   "metadata": {
    "deletable": true,
    "editable": true
   },
   "source": [
    "### Fully-Connected Layer\n",
    "Implement the `fully_conn` function to apply a fully connected layer to `x_tensor` with the shape (*Batch Size*, *num_outputs*). Shortcut option: you can use classes from the [TensorFlow Layers](https://www.tensorflow.org/api_docs/python/tf/layers) or [TensorFlow Layers (contrib)](https://www.tensorflow.org/api_guides/python/contrib.layers) packages for this layer. For more of a challenge, only use other TensorFlow packages."
   ]
  },
  {
   "cell_type": "code",
   "execution_count": 10,
   "metadata": {
    "collapsed": false,
    "deletable": true,
    "editable": true
   },
   "outputs": [
    {
     "name": "stdout",
     "output_type": "stream",
     "text": [
      "Tests Passed\n"
     ]
    }
   ],
   "source": [
    "def fully_conn(x_tensor, num_outputs):\n",
    "    \"\"\"\n",
    "    Apply a fully connected layer to x_tensor using weight and bias\n",
    "    : x_tensor: A 2-D tensor where the first dimension is batch size.\n",
    "    : num_outputs: The number of output that the new tensor should be.\n",
    "    : return: A 2-D tensor where the second dimension is num_outputs.\n",
    "    \"\"\"\n",
    "    # TODO: Implement Function\n",
    "    shape = x_tensor.get_shape().as_list()\n",
    "    # stddev for tf.truncated_normal is 1 / (2 * sqrt(y)) because tf.truncated_normal\n",
    "    # except that values whose magnitude is more than 2 standard deviations.\n",
    "    stddev = 1. / (2. * math.sqrt(shape[1]))\n",
    "    weight = tf.Variable(tf.truncated_normal([shape[1], num_outputs], stddev=stddev))\n",
    "    bias = tf.Variable(tf.truncated_normal([num_outputs], stddev=stddev))\n",
    "    return tf.nn.relu(tf.add(tf.matmul(x_tensor, weight), bias))\n",
    "\n",
    "\n",
    "\"\"\"\n",
    "DON'T MODIFY ANYTHING IN THIS CELL THAT IS BELOW THIS LINE\n",
    "\"\"\"\n",
    "tests.test_fully_conn(fully_conn)"
   ]
  },
  {
   "cell_type": "markdown",
   "metadata": {
    "deletable": true,
    "editable": true
   },
   "source": [
    "### Output Layer\n",
    "Implement the `output` function to apply a fully connected layer to `x_tensor` with the shape (*Batch Size*, *num_outputs*). Shortcut option: you can use classes from the [TensorFlow Layers](https://www.tensorflow.org/api_docs/python/tf/layers) or [TensorFlow Layers (contrib)](https://www.tensorflow.org/api_guides/python/contrib.layers) packages for this layer. For more of a challenge, only use other TensorFlow packages.\n",
    "\n",
    "**Note:** Activation, softmax, or cross entropy should **not** be applied to this."
   ]
  },
  {
   "cell_type": "code",
   "execution_count": 11,
   "metadata": {
    "collapsed": false,
    "deletable": true,
    "editable": true
   },
   "outputs": [
    {
     "name": "stdout",
     "output_type": "stream",
     "text": [
      "Tests Passed\n"
     ]
    }
   ],
   "source": [
    "def output(x_tensor, num_outputs):\n",
    "    \"\"\"\n",
    "    Apply a output layer to x_tensor using weight and bias\n",
    "    : x_tensor: A 2-D tensor where the first dimension is batch size.\n",
    "    : num_outputs: The number of output that the new tensor should be.\n",
    "    : return: A 2-D tensor where the second dimension is num_outputs.\n",
    "    \"\"\"\n",
    "    # TODO: Implement Function\n",
    "    shape = x_tensor.get_shape().as_list()\n",
    "    # stddev for tf.truncated_normal is 1 / (2 * sqrt(y)) because tf.truncated_normal\n",
    "    # except that values whose magnitude is more than 2 standard deviations.\n",
    "    stddev = 1. / (2. * math.sqrt(shape[1]))\n",
    "    weight = tf.Variable(tf.truncated_normal([shape[1], num_outputs], stddev=stddev))\n",
    "    bias = tf.Variable(tf.truncated_normal([num_outputs], stddev=stddev))\n",
    "    return tf.add(tf.matmul(x_tensor, weight), bias)\n",
    "\n",
    "\n",
    "\"\"\"\n",
    "DON'T MODIFY ANYTHING IN THIS CELL THAT IS BELOW THIS LINE\n",
    "\"\"\"\n",
    "tests.test_output(output)"
   ]
  },
  {
   "cell_type": "markdown",
   "metadata": {
    "deletable": true,
    "editable": true
   },
   "source": [
    "### Create Convolutional Model\n",
    "Implement the function `conv_net` to create a convolutional neural network model. The function takes in a batch of images, `x`, and outputs logits.  Use the layers you created above to create this model:\n",
    "\n",
    "* Apply 1, 2, or 3 Convolution and Max Pool layers\n",
    "* Apply a Flatten Layer\n",
    "* Apply 1, 2, or 3 Fully Connected Layers\n",
    "* Apply an Output Layer\n",
    "* Return the output\n",
    "* Apply [TensorFlow's Dropout](https://www.tensorflow.org/api_docs/python/tf/nn/dropout) to one or more layers in the model using `keep_prob`. "
   ]
  },
  {
   "cell_type": "code",
   "execution_count": 12,
   "metadata": {
    "collapsed": false,
    "deletable": true,
    "editable": true
   },
   "outputs": [
    {
     "name": "stdout",
     "output_type": "stream",
     "text": [
      "Neural Network Built!\n"
     ]
    }
   ],
   "source": [
    "def conv_net(x, keep_prob):\n",
    "    \"\"\"\n",
    "    Create a convolutional neural network model\n",
    "    : x: Placeholder tensor that holds image data.\n",
    "    : keep_prob: Placeholder tensor that hold dropout keep probability.\n",
    "    : return: Tensor that represents logits\n",
    "    \"\"\"\n",
    "    # TODO: Apply 1, 2, or 3 Convolution and Max Pool layers\n",
    "    #    Play around with different number of outputs, kernel size and stride\n",
    "    # Function Definition from Above:\n",
    "    #    conv2d_maxpool(x_tensor, conv_num_outputs, conv_ksize, conv_strides, pool_ksize, pool_strides)\n",
    "    x_tensor = conv2d_maxpool(x, 64, (5,5), (1,1), (2,2), (2,2))\n",
    "    x_tensor = conv2d_maxpool(x_tensor, 128, (5,5), (1,1), (2,2), (2,2))\n",
    "\n",
    "    # TODO: Apply a Flatten Layer\n",
    "    # Function Definition from Above:\n",
    "    #   flatten(x_tensor)\n",
    "    x_tensor = flatten(x_tensor)\n",
    "\n",
    "    # TODO: Apply 1, 2, or 3 Fully Connected Layers\n",
    "    #    Play around with different number of outputs\n",
    "    # Function Definition from Above:\n",
    "    #   fully_conn(x_tensor, num_outputs)\n",
    "    x_tensor = fully_conn(x_tensor, 1024)\n",
    "    x_tensor = tf.nn.dropout(x_tensor, keep_prob)\n",
    "    \n",
    "    # TODO: Apply an Output Layer\n",
    "    #    Set this to the number of classes\n",
    "    # Function Definition from Above:\n",
    "    #   output(x_tensor, num_outputs)\n",
    "    x_tensor = output(x_tensor, 10)\n",
    "    \n",
    "    # TODO: return output\n",
    "    return x_tensor\n",
    "\n",
    "\n",
    "\"\"\"\n",
    "DON'T MODIFY ANYTHING IN THIS CELL THAT IS BELOW THIS LINE\n",
    "\"\"\"\n",
    "\n",
    "##############################\n",
    "## Build the Neural Network ##\n",
    "##############################\n",
    "\n",
    "# Remove previous weights, bias, inputs, etc..\n",
    "tf.reset_default_graph()\n",
    "\n",
    "# Inputs\n",
    "x = neural_net_image_input((32, 32, 3))\n",
    "y = neural_net_label_input(10)\n",
    "keep_prob = neural_net_keep_prob_input()\n",
    "\n",
    "# Model\n",
    "logits = conv_net(x, keep_prob)\n",
    "\n",
    "# Name logits Tensor, so that is can be loaded from disk after training\n",
    "logits = tf.identity(logits, name='logits')\n",
    "\n",
    "# Loss and Optimizer\n",
    "cost = tf.reduce_mean(tf.nn.softmax_cross_entropy_with_logits(logits=logits, labels=y))\n",
    "optimizer = tf.train.AdamOptimizer().minimize(cost)\n",
    "\n",
    "# Accuracy\n",
    "correct_pred = tf.equal(tf.argmax(logits, 1), tf.argmax(y, 1))\n",
    "accuracy = tf.reduce_mean(tf.cast(correct_pred, tf.float32), name='accuracy')\n",
    "\n",
    "tests.test_conv_net(conv_net)"
   ]
  },
  {
   "cell_type": "markdown",
   "metadata": {
    "deletable": true,
    "editable": true
   },
   "source": [
    "## Train the Neural Network\n",
    "### Single Optimization\n",
    "Implement the function `train_neural_network` to do a single optimization.  The optimization should use `optimizer` to optimize in `session` with a `feed_dict` of the following:\n",
    "* `x` for image input\n",
    "* `y` for labels\n",
    "* `keep_prob` for keep probability for dropout\n",
    "\n",
    "This function will be called for each batch, so `tf.global_variables_initializer()` has already been called.\n",
    "\n",
    "Note: Nothing needs to be returned. This function is only optimizing the neural network."
   ]
  },
  {
   "cell_type": "code",
   "execution_count": 13,
   "metadata": {
    "collapsed": false,
    "deletable": true,
    "editable": true
   },
   "outputs": [
    {
     "name": "stdout",
     "output_type": "stream",
     "text": [
      "Tests Passed\n"
     ]
    }
   ],
   "source": [
    "def train_neural_network(session, optimizer, keep_probability, feature_batch, label_batch):\n",
    "    \"\"\"\n",
    "    Optimize the session on a batch of images and labels\n",
    "    : session: Current TensorFlow session\n",
    "    : optimizer: TensorFlow optimizer function\n",
    "    : keep_probability: keep probability\n",
    "    : feature_batch: Batch of Numpy image data\n",
    "    : label_batch: Batch of Numpy label data\n",
    "    \"\"\"\n",
    "    # TODO: Implement Function\n",
    "    session.run(optimizer, feed_dict={keep_prob: keep_probability, x: feature_batch, y: label_batch})\n",
    "\n",
    "\n",
    "\"\"\"\n",
    "DON'T MODIFY ANYTHING IN THIS CELL THAT IS BELOW THIS LINE\n",
    "\"\"\"\n",
    "tests.test_train_nn(train_neural_network)"
   ]
  },
  {
   "cell_type": "markdown",
   "metadata": {
    "deletable": true,
    "editable": true
   },
   "source": [
    "### Show Stats\n",
    "Implement the function `print_stats` to print loss and validation accuracy.  Use the global variables `valid_features` and `valid_labels` to calculate validation accuracy.  Use a keep probability of `1.0` to calculate the loss and validation accuracy."
   ]
  },
  {
   "cell_type": "code",
   "execution_count": 14,
   "metadata": {
    "collapsed": false,
    "deletable": true,
    "editable": true
   },
   "outputs": [],
   "source": [
    "def print_stats(session, feature_batch, label_batch, cost, accuracy):\n",
    "    \"\"\"\n",
    "    Print information about loss and validation accuracy\n",
    "    : session: Current TensorFlow session\n",
    "    : feature_batch: Batch of Numpy image data\n",
    "    : label_batch: Batch of Numpy label data\n",
    "    : cost: TensorFlow cost function\n",
    "    : accuracy: TensorFlow accuracy function\n",
    "    \"\"\"\n",
    "    # TODO: Implement Function\n",
    "    print('Loss: {:>10.4f} Validation Accuracy: {:.6f}'.format(\n",
    "        session.run(cost, feed_dict={keep_prob:1.0, x:feature_batch, y:label_batch}),\n",
    "        session.run(accuracy, feed_dict={keep_prob:1.0, x:valid_features, y:valid_labels})\n",
    "    ))"
   ]
  },
  {
   "cell_type": "markdown",
   "metadata": {
    "deletable": true,
    "editable": true
   },
   "source": [
    "### Hyperparameters\n",
    "Tune the following parameters:\n",
    "* Set `epochs` to the number of iterations until the network stops learning or start overfitting\n",
    "* Set `batch_size` to the highest number that your machine has memory for.  Most people set them to common sizes of memory:\n",
    " * 64\n",
    " * 128\n",
    " * 256\n",
    " * ...\n",
    "* Set `keep_probability` to the probability of keeping a node using dropout"
   ]
  },
  {
   "cell_type": "code",
   "execution_count": 15,
   "metadata": {
    "collapsed": true,
    "deletable": true,
    "editable": true
   },
   "outputs": [],
   "source": [
    "# TODO: Tune Parameters\n",
    "# batch_size\n",
    "batch_size = 128"
   ]
  },
  {
   "cell_type": "code",
   "execution_count": 16,
   "metadata": {
    "collapsed": false,
    "deletable": true,
    "editable": true,
    "scrolled": false
   },
   "outputs": [
    {
     "name": "stdout",
     "output_type": "stream",
     "text": [
      "Grid Search for keep_probability on a Single Batch...\n",
      "Keep Probability 0.10, Epoch 30, CIFAR-10 Batch 1:  Average Accuracy: 0.584020\n",
      "Keep Probability 0.15, Epoch 30, CIFAR-10 Batch 1:  Average Accuracy: 0.584560\n",
      "Keep Probability 0.20, Epoch 30, CIFAR-10 Batch 1:  Average Accuracy: 0.580400\n",
      "Keep Probability 0.25, Epoch 30, CIFAR-10 Batch 1:  Average Accuracy: 0.592600\n",
      "Keep Probability 0.30, Epoch 30, CIFAR-10 Batch 1:  Average Accuracy: 0.577480\n",
      "Keep Probability 0.35, Epoch 30, CIFAR-10 Batch 1:  Average Accuracy: 0.564040\n",
      "Keep Probability 0.40, Epoch 30, CIFAR-10 Batch 1:  Average Accuracy: 0.589620\n",
      "Keep Probability 0.45, Epoch 30, CIFAR-10 Batch 1:  Average Accuracy: 0.575540\n",
      "Keep Probability 0.50, Epoch 30, CIFAR-10 Batch 1:  Average Accuracy: 0.574340\n",
      "Keep Probability 0.55, Epoch 30, CIFAR-10 Batch 1:  Average Accuracy: 0.578040\n",
      "Keep Probability 0.60, Epoch 30, CIFAR-10 Batch 1:  Average Accuracy: 0.565920\n",
      "Keep Probability 0.65, Epoch 30, CIFAR-10 Batch 1:  Average Accuracy: 0.568360\n",
      "Keep Probability 0.70, Epoch 30, CIFAR-10 Batch 1:  Average Accuracy: 0.566180\n",
      "Keep Probability 0.75, Epoch 30, CIFAR-10 Batch 1:  Average Accuracy: 0.549540\n",
      "Keep Probability 0.80, Epoch 30, CIFAR-10 Batch 1:  Average Accuracy: 0.543200\n",
      "Keep Probability 0.85, Epoch 30, CIFAR-10 Batch 1:  Average Accuracy: 0.564120\n",
      "Keep Probability 0.90, Epoch 30, CIFAR-10 Batch 1:  Average Accuracy: 0.551660\n",
      "Keep Probability 0.95, Epoch 30, CIFAR-10 Batch 1:  Average Accuracy: 0.541280\n",
      "Keep Probability 1.00, Epoch 30, CIFAR-10 Batch 1:  Average Accuracy: 0.534560\n"
     ]
    }
   ],
   "source": [
    "# Grid Search on a single batch.\n",
    "plot_keep_probability = np.arange(0.1, 1.05, 0.05)\n",
    "\n",
    "# After searching true keep probability, true epochs be going to be searched.\n",
    "temp_epochs = 30\n",
    "\n",
    "plot_average_accuracy = np.zeros(len(plot_keep_probability))\n",
    "\n",
    "print('Grid Search for keep_probability on a Single Batch...')\n",
    "with tf.Session() as sess:\n",
    "    for i, keep_probability in enumerate(plot_keep_probability):\n",
    "        sess.run(tf.global_variables_initializer())\n",
    "        average_accuracy = 0\n",
    "        for epoch in range(temp_epochs):\n",
    "            batch_i = 1\n",
    "            for batch_features, batch_labels in helper.load_preprocess_training_batch(batch_i, batch_size):\n",
    "                train_neural_network(sess, optimizer, keep_probability, batch_features, batch_labels)\n",
    "            if epoch +1 > 20:\n",
    "                average_accuracy += sess.run(accuracy, feed_dict={keep_prob:1.0, x:valid_features, y:valid_labels})\n",
    "            if epoch + 1 == temp_epochs:\n",
    "                plot_average_accuracy[i] = average_accuracy / 10.\n",
    "                print('Keep Probability {:.2f}, Epoch {:>2}, CIFAR-10 Batch {}:  '.format(keep_probability, epoch + 1, batch_i), end='')\n",
    "                print('Average Accuracy: {:.6f}'.format(plot_average_accuracy[i]))"
   ]
  },
  {
   "cell_type": "code",
   "execution_count": 17,
   "metadata": {
    "collapsed": false,
    "deletable": true,
    "editable": true
   },
   "outputs": [
    {
     "data": {
      "text/plain": [
       "<matplotlib.text.Text at 0x7f451a32cef0>"
      ]
     },
     "execution_count": 17,
     "metadata": {},
     "output_type": "execute_result"
    },
    {
     "data": {
      "image/png": "[encoded data removed]",
      "text/plain": [
       "<matplotlib.figure.Figure at 0x7f4523cd1710>"
      ]
     },
     "metadata": {
      "image/png": {
       "height": 277,
       "width": 394
      }
     },
     "output_type": "display_data"
    }
   ],
   "source": [
    "%matplotlib inline\n",
    "\n",
    "import matplotlib.pyplot as plt\n",
    "\n",
    "# Average accuracy for keep probability.\n",
    "plt.plot(plot_keep_probability, plot_average_accuracy)\n",
    "plt.title(\"Average accuracy for keep probability on a single batch.\")\n",
    "plt.xlabel(\"Keep probability\")\n",
    "plt.ylabel(\"Average accuracy\")"
   ]
  },
  {
   "cell_type": "code",
   "execution_count": 18,
   "metadata": {
    "collapsed": true,
    "deletable": true,
    "editable": true
   },
   "outputs": [],
   "source": [
    "# TODO: Tune Parameters\n",
    "# keep_probability\n",
    "keep_probability = 0.25"
   ]
  },
  {
   "cell_type": "code",
   "execution_count": 19,
   "metadata": {
    "collapsed": false,
    "deletable": true,
    "editable": true
   },
   "outputs": [
    {
     "name": "stdout",
     "output_type": "stream",
     "text": [
      "Check epochs on a Single Batch...\n",
      "Epoch 10, CIFAR-10 Batch 1:  Loss:     1.0005 Validation Accuracy: 0.530000\n",
      "Epoch 20, CIFAR-10 Batch 1:  Loss:     0.2283 Validation Accuracy: 0.596400\n",
      "Epoch 30, CIFAR-10 Batch 1:  Loss:     0.0565 Validation Accuracy: 0.594600\n",
      "Epoch 40, CIFAR-10 Batch 1:  Loss:     0.0086 Validation Accuracy: 0.589400\n",
      "Epoch 50, CIFAR-10 Batch 1:  Loss:     0.0018 Validation Accuracy: 0.600200\n",
      "Epoch 60, CIFAR-10 Batch 1:  Loss:     0.0009 Validation Accuracy: 0.599000\n",
      "Epoch 70, CIFAR-10 Batch 1:  Loss:     0.0003 Validation Accuracy: 0.609200\n",
      "Epoch 80, CIFAR-10 Batch 1:  Loss:     0.0003 Validation Accuracy: 0.607800\n",
      "Epoch 90, CIFAR-10 Batch 1:  Loss:     0.0002 Validation Accuracy: 0.603000\n",
      "Epoch 100, CIFAR-10 Batch 1:  Loss:     0.0001 Validation Accuracy: 0.608000\n"
     ]
    }
   ],
   "source": [
    "# Check epochs on a single batch.\n",
    "epochs = 100 # max epochs\n",
    "\n",
    "print('Check epochs on a Single Batch...')\n",
    "\n",
    "plot_epochs = np.arange(0, epochs, 1)\n",
    "plot_cost = np.zeros(epochs)\n",
    "plot_accuracy = np.zeros(epochs)\n",
    "\n",
    "with tf.Session() as sess:\n",
    "    sess.run(tf.global_variables_initializer())\n",
    "    for epoch in range(epochs):\n",
    "        batch_i = 1\n",
    "        for batch_features, batch_labels in helper.load_preprocess_training_batch(batch_i, batch_size):\n",
    "            train_neural_network(sess, optimizer, keep_probability, batch_features, batch_labels)\n",
    "        \n",
    "        plot_cost[epoch] = sess.run(cost, feed_dict={keep_prob:1.0, x:batch_features, y:batch_labels})\n",
    "        plot_accuracy[epoch] = sess.run(accuracy, feed_dict={keep_prob:1.0, x:valid_features, y:valid_labels})\n",
    "\n",
    "        if (epoch + 1) % 10 == 0:\n",
    "            print('Epoch {:>2}, CIFAR-10 Batch {}:  '.format(epoch + 1, batch_i), end='')        \n",
    "            print('Loss: {:>10.4f} Validation Accuracy: {:.6f}'.format(plot_cost[epoch], plot_accuracy[epoch]))"
   ]
  },
  {
   "cell_type": "code",
   "execution_count": 20,
   "metadata": {
    "collapsed": false,
    "deletable": true,
    "editable": true
   },
   "outputs": [
    {
     "data": {
      "text/plain": [
       "<matplotlib.text.Text at 0x7f451801f358>"
      ]
     },
     "execution_count": 20,
     "metadata": {},
     "output_type": "execute_result"
    },
    {
     "data": {
      "image/png": "[encoded data removed]",
      "text/plain": [
       "<matplotlib.figure.Figure at 0x7f4518076cc0>"
      ]
     },
     "metadata": {
      "image/png": {
       "height": 277,
       "width": 387
      }
     },
     "output_type": "display_data"
    }
   ],
   "source": [
    "# Cost for epochs\n",
    "plt.plot(plot_epochs, plot_cost)\n",
    "plt.title(\"Loss for epochs on a single batch.\")\n",
    "plt.xlabel(\"Epochs\")\n",
    "plt.ylabel(\"Loss\")"
   ]
  },
  {
   "cell_type": "code",
   "execution_count": 21,
   "metadata": {
    "collapsed": false,
    "deletable": true,
    "editable": true
   },
   "outputs": [
    {
     "data": {
      "text/plain": [
       "<matplotlib.text.Text at 0x7f4510d7b198>"
      ]
     },
     "execution_count": 21,
     "metadata": {},
     "output_type": "execute_result"
    },
    {
     "data": {
      "image/png": "[encoded data removed]",
      "text/plain": [
       "<matplotlib.figure.Figure at 0x7f451802ebe0>"
      ]
     },
     "metadata": {
      "image/png": {
       "height": 277,
       "width": 393
      }
     },
     "output_type": "display_data"
    }
   ],
   "source": [
    "# Accuracy for epochs\n",
    "plt.plot(plot_epochs, plot_accuracy)\n",
    "plt.title(\"Accuracy for epochs on a single batch.\")\n",
    "plt.xlabel(\"Epochs\")\n",
    "plt.ylabel(\"Accuracy\")"
   ]
  },
  {
   "cell_type": "code",
   "execution_count": 23,
   "metadata": {
    "collapsed": true,
    "deletable": true,
    "editable": true
   },
   "outputs": [],
   "source": [
    "# TODO: Tune Parameters\n",
    "# epochs\n",
    "epochs = 70"
   ]
  },
  {
   "cell_type": "markdown",
   "metadata": {
    "deletable": true,
    "editable": true
   },
   "source": [
    "### Train on a Single CIFAR-10 Batch\n",
    "Instead of training the neural network on all the CIFAR-10 batches of data, let's use a single batch. This should save time while you iterate on the model to get a better accuracy.  Once the final validation accuracy is 50% or greater, run the model on all the data in the next section."
   ]
  },
  {
   "cell_type": "code",
   "execution_count": 24,
   "metadata": {
    "collapsed": false,
    "deletable": true,
    "editable": true,
    "scrolled": false
   },
   "outputs": [
    {
     "name": "stdout",
     "output_type": "stream",
     "text": [
      "Checking the Training on a Single Batch...\n",
      "Epoch  1, CIFAR-10 Batch 1:  Loss:     2.1764 Validation Accuracy: 0.254200\n",
      "Epoch  2, CIFAR-10 Batch 1:  Loss:     1.9550 Validation Accuracy: 0.334800\n",
      "Epoch  3, CIFAR-10 Batch 1:  Loss:     1.9022 Validation Accuracy: 0.387600\n",
      "Epoch  4, CIFAR-10 Batch 1:  Loss:     1.8392 Validation Accuracy: 0.407400\n",
      "Epoch  5, CIFAR-10 Batch 1:  Loss:     1.6947 Validation Accuracy: 0.450200\n",
      "Epoch  6, CIFAR-10 Batch 1:  Loss:     1.5282 Validation Accuracy: 0.475400\n",
      "Epoch  7, CIFAR-10 Batch 1:  Loss:     1.5102 Validation Accuracy: 0.488800\n",
      "Epoch  8, CIFAR-10 Batch 1:  Loss:     1.3590 Validation Accuracy: 0.505000\n",
      "Epoch  9, CIFAR-10 Batch 1:  Loss:     1.2547 Validation Accuracy: 0.502000\n",
      "Epoch 10, CIFAR-10 Batch 1:  Loss:     1.1998 Validation Accuracy: 0.522200\n",
      "Epoch 11, CIFAR-10 Batch 1:  Loss:     1.0851 Validation Accuracy: 0.540600\n",
      "Epoch 12, CIFAR-10 Batch 1:  Loss:     0.9697 Validation Accuracy: 0.550600\n",
      "Epoch 13, CIFAR-10 Batch 1:  Loss:     0.9025 Validation Accuracy: 0.549400\n",
      "Epoch 14, CIFAR-10 Batch 1:  Loss:     0.8626 Validation Accuracy: 0.550000\n",
      "Epoch 15, CIFAR-10 Batch 1:  Loss:     0.7644 Validation Accuracy: 0.566000\n",
      "Epoch 16, CIFAR-10 Batch 1:  Loss:     0.6907 Validation Accuracy: 0.566800\n",
      "Epoch 17, CIFAR-10 Batch 1:  Loss:     0.5552 Validation Accuracy: 0.578600\n",
      "Epoch 18, CIFAR-10 Batch 1:  Loss:     0.5008 Validation Accuracy: 0.583200\n",
      "Epoch 19, CIFAR-10 Batch 1:  Loss:     0.4416 Validation Accuracy: 0.576800\n",
      "Epoch 20, CIFAR-10 Batch 1:  Loss:     0.4107 Validation Accuracy: 0.589000\n",
      "Epoch 21, CIFAR-10 Batch 1:  Loss:     0.3412 Validation Accuracy: 0.595200\n",
      "Epoch 22, CIFAR-10 Batch 1:  Loss:     0.3069 Validation Accuracy: 0.589400\n",
      "Epoch 23, CIFAR-10 Batch 1:  Loss:     0.2852 Validation Accuracy: 0.597000\n",
      "Epoch 24, CIFAR-10 Batch 1:  Loss:     0.2647 Validation Accuracy: 0.593400\n",
      "Epoch 25, CIFAR-10 Batch 1:  Loss:     0.2544 Validation Accuracy: 0.596200\n",
      "Epoch 26, CIFAR-10 Batch 1:  Loss:     0.2129 Validation Accuracy: 0.591200\n",
      "Epoch 27, CIFAR-10 Batch 1:  Loss:     0.1814 Validation Accuracy: 0.586800\n",
      "Epoch 28, CIFAR-10 Batch 1:  Loss:     0.1600 Validation Accuracy: 0.594800\n",
      "Epoch 29, CIFAR-10 Batch 1:  Loss:     0.1185 Validation Accuracy: 0.596200\n",
      "Epoch 30, CIFAR-10 Batch 1:  Loss:     0.1023 Validation Accuracy: 0.594400\n",
      "Epoch 31, CIFAR-10 Batch 1:  Loss:     0.1011 Validation Accuracy: 0.596600\n",
      "Epoch 32, CIFAR-10 Batch 1:  Loss:     0.0810 Validation Accuracy: 0.585800\n",
      "Epoch 33, CIFAR-10 Batch 1:  Loss:     0.0660 Validation Accuracy: 0.590200\n",
      "Epoch 34, CIFAR-10 Batch 1:  Loss:     0.0659 Validation Accuracy: 0.593000\n",
      "Epoch 35, CIFAR-10 Batch 1:  Loss:     0.0622 Validation Accuracy: 0.590200\n",
      "Epoch 36, CIFAR-10 Batch 1:  Loss:     0.0462 Validation Accuracy: 0.590400\n",
      "Epoch 37, CIFAR-10 Batch 1:  Loss:     0.0364 Validation Accuracy: 0.580000\n",
      "Epoch 38, CIFAR-10 Batch 1:  Loss:     0.0422 Validation Accuracy: 0.586200\n",
      "Epoch 39, CIFAR-10 Batch 1:  Loss:     0.0448 Validation Accuracy: 0.584200\n",
      "Epoch 40, CIFAR-10 Batch 1:  Loss:     0.0395 Validation Accuracy: 0.588400\n",
      "Epoch 41, CIFAR-10 Batch 1:  Loss:     0.0225 Validation Accuracy: 0.596800\n",
      "Epoch 42, CIFAR-10 Batch 1:  Loss:     0.0147 Validation Accuracy: 0.594000\n",
      "Epoch 43, CIFAR-10 Batch 1:  Loss:     0.0149 Validation Accuracy: 0.588200\n",
      "Epoch 44, CIFAR-10 Batch 1:  Loss:     0.0140 Validation Accuracy: 0.604800\n",
      "Epoch 45, CIFAR-10 Batch 1:  Loss:     0.0135 Validation Accuracy: 0.597600\n",
      "Epoch 46, CIFAR-10 Batch 1:  Loss:     0.0111 Validation Accuracy: 0.601200\n",
      "Epoch 47, CIFAR-10 Batch 1:  Loss:     0.0132 Validation Accuracy: 0.603200\n",
      "Epoch 48, CIFAR-10 Batch 1:  Loss:     0.0105 Validation Accuracy: 0.600400\n",
      "Epoch 49, CIFAR-10 Batch 1:  Loss:     0.0095 Validation Accuracy: 0.604200\n",
      "Epoch 50, CIFAR-10 Batch 1:  Loss:     0.0108 Validation Accuracy: 0.600000\n",
      "Epoch 51, CIFAR-10 Batch 1:  Loss:     0.0124 Validation Accuracy: 0.594600\n",
      "Epoch 52, CIFAR-10 Batch 1:  Loss:     0.0055 Validation Accuracy: 0.604000\n",
      "Epoch 53, CIFAR-10 Batch 1:  Loss:     0.0072 Validation Accuracy: 0.596400\n",
      "Epoch 54, CIFAR-10 Batch 1:  Loss:     0.0049 Validation Accuracy: 0.605000\n",
      "Epoch 55, CIFAR-10 Batch 1:  Loss:     0.0041 Validation Accuracy: 0.603000\n",
      "Epoch 56, CIFAR-10 Batch 1:  Loss:     0.0029 Validation Accuracy: 0.606000\n",
      "Epoch 57, CIFAR-10 Batch 1:  Loss:     0.0026 Validation Accuracy: 0.609600\n",
      "Epoch 58, CIFAR-10 Batch 1:  Loss:     0.0020 Validation Accuracy: 0.605600\n",
      "Epoch 59, CIFAR-10 Batch 1:  Loss:     0.0032 Validation Accuracy: 0.598400\n",
      "Epoch 60, CIFAR-10 Batch 1:  Loss:     0.0048 Validation Accuracy: 0.595200\n",
      "Epoch 61, CIFAR-10 Batch 1:  Loss:     0.0044 Validation Accuracy: 0.599200\n",
      "Epoch 62, CIFAR-10 Batch 1:  Loss:     0.0031 Validation Accuracy: 0.603000\n",
      "Epoch 63, CIFAR-10 Batch 1:  Loss:     0.0027 Validation Accuracy: 0.602600\n",
      "Epoch 64, CIFAR-10 Batch 1:  Loss:     0.0044 Validation Accuracy: 0.595600\n",
      "Epoch 65, CIFAR-10 Batch 1:  Loss:     0.0064 Validation Accuracy: 0.592800\n",
      "Epoch 66, CIFAR-10 Batch 1:  Loss:     0.0026 Validation Accuracy: 0.602400\n",
      "Epoch 67, CIFAR-10 Batch 1:  Loss:     0.0009 Validation Accuracy: 0.611600\n",
      "Epoch 68, CIFAR-10 Batch 1:  Loss:     0.0018 Validation Accuracy: 0.599800\n",
      "Epoch 69, CIFAR-10 Batch 1:  Loss:     0.0009 Validation Accuracy: 0.601800\n",
      "Epoch 70, CIFAR-10 Batch 1:  Loss:     0.0008 Validation Accuracy: 0.604200\n"
     ]
    }
   ],
   "source": [
    "\"\"\"\n",
    "DON'T MODIFY ANYTHING IN THIS CELL\n",
    "\"\"\"\n",
    "print('Checking the Training on a Single Batch...')\n",
    "with tf.Session() as sess:\n",
    "    # Initializing the variables\n",
    "    sess.run(tf.global_variables_initializer())\n",
    "    \n",
    "    # Training cycle\n",
    "    for epoch in range(epochs):\n",
    "        batch_i = 1\n",
    "        for batch_features, batch_labels in helper.load_preprocess_training_batch(batch_i, batch_size):\n",
    "            train_neural_network(sess, optimizer, keep_probability, batch_features, batch_labels)\n",
    "        print('Epoch {:>2}, CIFAR-10 Batch {}:  '.format(epoch + 1, batch_i), end='')\n",
    "        print_stats(sess, batch_features, batch_labels, cost, accuracy)"
   ]
  },
  {
   "cell_type": "markdown",
   "metadata": {
    "deletable": true,
    "editable": true
   },
   "source": [
    "### Fully Train the Model\n",
    "Now that you got a good accuracy with a single CIFAR-10 batch, try it with all five batches."
   ]
  },
  {
   "cell_type": "code",
   "execution_count": 25,
   "metadata": {
    "collapsed": false,
    "deletable": true,
    "editable": true,
    "scrolled": false
   },
   "outputs": [
    {
     "name": "stdout",
     "output_type": "stream",
     "text": [
      "Training...\n",
      "Epoch  1, CIFAR-10 Batch 1:  Loss:     2.1740 Validation Accuracy: 0.249400\n",
      "Epoch  1, CIFAR-10 Batch 2:  Loss:     1.7919 Validation Accuracy: 0.369600\n",
      "Epoch  1, CIFAR-10 Batch 3:  Loss:     1.4868 Validation Accuracy: 0.417200\n",
      "Epoch  1, CIFAR-10 Batch 4:  Loss:     1.5117 Validation Accuracy: 0.433600\n",
      "Epoch  1, CIFAR-10 Batch 5:  Loss:     1.6236 Validation Accuracy: 0.472000\n",
      "Epoch  2, CIFAR-10 Batch 1:  Loss:     1.7366 Validation Accuracy: 0.483000\n",
      "Epoch  2, CIFAR-10 Batch 2:  Loss:     1.3771 Validation Accuracy: 0.502400\n",
      "Epoch  2, CIFAR-10 Batch 3:  Loss:     1.1020 Validation Accuracy: 0.508200\n",
      "Epoch  2, CIFAR-10 Batch 4:  Loss:     1.3555 Validation Accuracy: 0.513000\n",
      "Epoch  2, CIFAR-10 Batch 5:  Loss:     1.3758 Validation Accuracy: 0.534200\n",
      "Epoch  3, CIFAR-10 Batch 1:  Loss:     1.4147 Validation Accuracy: 0.540200\n",
      "Epoch  3, CIFAR-10 Batch 2:  Loss:     1.1484 Validation Accuracy: 0.551600\n",
      "Epoch  3, CIFAR-10 Batch 3:  Loss:     0.9809 Validation Accuracy: 0.558600\n",
      "Epoch  3, CIFAR-10 Batch 4:  Loss:     1.1359 Validation Accuracy: 0.553000\n",
      "Epoch  3, CIFAR-10 Batch 5:  Loss:     1.1649 Validation Accuracy: 0.592400\n",
      "Epoch  4, CIFAR-10 Batch 1:  Loss:     1.3061 Validation Accuracy: 0.585600\n",
      "Epoch  4, CIFAR-10 Batch 2:  Loss:     0.9741 Validation Accuracy: 0.606200\n",
      "Epoch  4, CIFAR-10 Batch 3:  Loss:     0.8315 Validation Accuracy: 0.609000\n",
      "Epoch  4, CIFAR-10 Batch 4:  Loss:     0.9974 Validation Accuracy: 0.605400\n",
      "Epoch  4, CIFAR-10 Batch 5:  Loss:     0.9502 Validation Accuracy: 0.631800\n",
      "Epoch  5, CIFAR-10 Batch 1:  Loss:     1.1598 Validation Accuracy: 0.630000\n",
      "Epoch  5, CIFAR-10 Batch 2:  Loss:     0.9006 Validation Accuracy: 0.630400\n",
      "Epoch  5, CIFAR-10 Batch 3:  Loss:     0.6980 Validation Accuracy: 0.647800\n",
      "Epoch  5, CIFAR-10 Batch 4:  Loss:     0.7908 Validation Accuracy: 0.643000\n",
      "Epoch  5, CIFAR-10 Batch 5:  Loss:     0.8374 Validation Accuracy: 0.657800\n",
      "Epoch  6, CIFAR-10 Batch 1:  Loss:     0.9676 Validation Accuracy: 0.657400\n",
      "Epoch  6, CIFAR-10 Batch 2:  Loss:     0.7742 Validation Accuracy: 0.660000\n",
      "Epoch  6, CIFAR-10 Batch 3:  Loss:     0.5260 Validation Accuracy: 0.665800\n",
      "Epoch  6, CIFAR-10 Batch 4:  Loss:     0.7140 Validation Accuracy: 0.667200\n",
      "Epoch  6, CIFAR-10 Batch 5:  Loss:     0.7283 Validation Accuracy: 0.669000\n",
      "Epoch  7, CIFAR-10 Batch 1:  Loss:     0.8125 Validation Accuracy: 0.677200\n",
      "Epoch  7, CIFAR-10 Batch 2:  Loss:     0.7077 Validation Accuracy: 0.663200\n",
      "Epoch  7, CIFAR-10 Batch 3:  Loss:     0.4482 Validation Accuracy: 0.684200\n",
      "Epoch  7, CIFAR-10 Batch 4:  Loss:     0.5837 Validation Accuracy: 0.682600\n",
      "Epoch  7, CIFAR-10 Batch 5:  Loss:     0.6130 Validation Accuracy: 0.681600\n",
      "Epoch  8, CIFAR-10 Batch 1:  Loss:     0.7109 Validation Accuracy: 0.687400\n",
      "Epoch  8, CIFAR-10 Batch 2:  Loss:     0.5702 Validation Accuracy: 0.683200\n",
      "Epoch  8, CIFAR-10 Batch 3:  Loss:     0.4424 Validation Accuracy: 0.684400\n",
      "Epoch  8, CIFAR-10 Batch 4:  Loss:     0.5156 Validation Accuracy: 0.696600\n",
      "Epoch  8, CIFAR-10 Batch 5:  Loss:     0.4844 Validation Accuracy: 0.685200\n",
      "Epoch  9, CIFAR-10 Batch 1:  Loss:     0.5966 Validation Accuracy: 0.690400\n",
      "Epoch  9, CIFAR-10 Batch 2:  Loss:     0.5180 Validation Accuracy: 0.684600\n",
      "Epoch  9, CIFAR-10 Batch 3:  Loss:     0.3519 Validation Accuracy: 0.698800\n",
      "Epoch  9, CIFAR-10 Batch 4:  Loss:     0.4463 Validation Accuracy: 0.692200\n",
      "Epoch  9, CIFAR-10 Batch 5:  Loss:     0.4649 Validation Accuracy: 0.676600\n",
      "Epoch 10, CIFAR-10 Batch 1:  Loss:     0.5139 Validation Accuracy: 0.695800\n",
      "Epoch 10, CIFAR-10 Batch 2:  Loss:     0.4716 Validation Accuracy: 0.693800\n",
      "Epoch 10, CIFAR-10 Batch 3:  Loss:     0.3514 Validation Accuracy: 0.692000\n",
      "Epoch 10, CIFAR-10 Batch 4:  Loss:     0.3848 Validation Accuracy: 0.696400\n",
      "Epoch 10, CIFAR-10 Batch 5:  Loss:     0.3935 Validation Accuracy: 0.689000\n",
      "Epoch 11, CIFAR-10 Batch 1:  Loss:     0.4934 Validation Accuracy: 0.695400\n",
      "Epoch 11, CIFAR-10 Batch 2:  Loss:     0.3948 Validation Accuracy: 0.701200\n",
      "Epoch 11, CIFAR-10 Batch 3:  Loss:     0.3025 Validation Accuracy: 0.690400\n",
      "Epoch 11, CIFAR-10 Batch 4:  Loss:     0.3635 Validation Accuracy: 0.710800\n",
      "Epoch 11, CIFAR-10 Batch 5:  Loss:     0.3452 Validation Accuracy: 0.693000\n",
      "Epoch 12, CIFAR-10 Batch 1:  Loss:     0.4001 Validation Accuracy: 0.705800\n",
      "Epoch 12, CIFAR-10 Batch 2:  Loss:     0.3507 Validation Accuracy: 0.706800\n",
      "Epoch 12, CIFAR-10 Batch 3:  Loss:     0.2479 Validation Accuracy: 0.707200\n",
      "Epoch 12, CIFAR-10 Batch 4:  Loss:     0.3241 Validation Accuracy: 0.711600\n",
      "Epoch 12, CIFAR-10 Batch 5:  Loss:     0.3183 Validation Accuracy: 0.702800\n",
      "Epoch 13, CIFAR-10 Batch 1:  Loss:     0.3747 Validation Accuracy: 0.707600\n",
      "Epoch 13, CIFAR-10 Batch 2:  Loss:     0.3353 Validation Accuracy: 0.699800\n",
      "Epoch 13, CIFAR-10 Batch 3:  Loss:     0.2411 Validation Accuracy: 0.708200\n",
      "Epoch 13, CIFAR-10 Batch 4:  Loss:     0.2983 Validation Accuracy: 0.698200\n",
      "Epoch 13, CIFAR-10 Batch 5:  Loss:     0.2757 Validation Accuracy: 0.713200\n",
      "Epoch 14, CIFAR-10 Batch 1:  Loss:     0.2887 Validation Accuracy: 0.707400\n",
      "Epoch 14, CIFAR-10 Batch 2:  Loss:     0.2635 Validation Accuracy: 0.717800\n",
      "Epoch 14, CIFAR-10 Batch 3:  Loss:     0.1888 Validation Accuracy: 0.719800\n",
      "Epoch 14, CIFAR-10 Batch 4:  Loss:     0.2541 Validation Accuracy: 0.719800\n",
      "Epoch 14, CIFAR-10 Batch 5:  Loss:     0.2134 Validation Accuracy: 0.717200\n",
      "Epoch 15, CIFAR-10 Batch 1:  Loss:     0.2397 Validation Accuracy: 0.712800\n",
      "Epoch 15, CIFAR-10 Batch 2:  Loss:     0.2466 Validation Accuracy: 0.714200\n",
      "Epoch 15, CIFAR-10 Batch 3:  Loss:     0.1705 Validation Accuracy: 0.723600\n",
      "Epoch 15, CIFAR-10 Batch 4:  Loss:     0.2186 Validation Accuracy: 0.712600\n",
      "Epoch 15, CIFAR-10 Batch 5:  Loss:     0.2071 Validation Accuracy: 0.719600\n",
      "Epoch 16, CIFAR-10 Batch 1:  Loss:     0.2413 Validation Accuracy: 0.713600\n",
      "Epoch 16, CIFAR-10 Batch 2:  Loss:     0.2245 Validation Accuracy: 0.715000\n",
      "Epoch 16, CIFAR-10 Batch 3:  Loss:     0.1547 Validation Accuracy: 0.714800\n",
      "Epoch 16, CIFAR-10 Batch 4:  Loss:     0.2059 Validation Accuracy: 0.715200\n",
      "Epoch 16, CIFAR-10 Batch 5:  Loss:     0.1901 Validation Accuracy: 0.718600\n",
      "Epoch 17, CIFAR-10 Batch 1:  Loss:     0.1964 Validation Accuracy: 0.710600\n",
      "Epoch 17, CIFAR-10 Batch 2:  Loss:     0.1884 Validation Accuracy: 0.720400\n",
      "Epoch 17, CIFAR-10 Batch 3:  Loss:     0.1378 Validation Accuracy: 0.712200\n",
      "Epoch 17, CIFAR-10 Batch 4:  Loss:     0.1618 Validation Accuracy: 0.716200\n",
      "Epoch 17, CIFAR-10 Batch 5:  Loss:     0.1643 Validation Accuracy: 0.726600\n",
      "Epoch 18, CIFAR-10 Batch 1:  Loss:     0.1510 Validation Accuracy: 0.718200\n",
      "Epoch 18, CIFAR-10 Batch 2:  Loss:     0.1550 Validation Accuracy: 0.717400\n",
      "Epoch 18, CIFAR-10 Batch 3:  Loss:     0.1148 Validation Accuracy: 0.714200\n",
      "Epoch 18, CIFAR-10 Batch 4:  Loss:     0.1646 Validation Accuracy: 0.711200\n",
      "Epoch 18, CIFAR-10 Batch 5:  Loss:     0.1623 Validation Accuracy: 0.710200\n",
      "Epoch 19, CIFAR-10 Batch 1:  Loss:     0.1827 Validation Accuracy: 0.726000\n",
      "Epoch 19, CIFAR-10 Batch 2:  Loss:     0.1331 Validation Accuracy: 0.717200\n",
      "Epoch 19, CIFAR-10 Batch 3:  Loss:     0.1069 Validation Accuracy: 0.711400\n",
      "Epoch 19, CIFAR-10 Batch 4:  Loss:     0.1556 Validation Accuracy: 0.720800\n",
      "Epoch 19, CIFAR-10 Batch 5:  Loss:     0.1502 Validation Accuracy: 0.722200\n",
      "Epoch 20, CIFAR-10 Batch 1:  Loss:     0.1387 Validation Accuracy: 0.718800\n",
      "Epoch 20, CIFAR-10 Batch 2:  Loss:     0.0949 Validation Accuracy: 0.722000\n",
      "Epoch 20, CIFAR-10 Batch 3:  Loss:     0.0961 Validation Accuracy: 0.722000\n",
      "Epoch 20, CIFAR-10 Batch 4:  Loss:     0.1128 Validation Accuracy: 0.722000\n",
      "Epoch 20, CIFAR-10 Batch 5:  Loss:     0.1242 Validation Accuracy: 0.727400\n",
      "Epoch 21, CIFAR-10 Batch 1:  Loss:     0.1476 Validation Accuracy: 0.718400\n",
      "Epoch 21, CIFAR-10 Batch 2:  Loss:     0.0824 Validation Accuracy: 0.724000\n",
      "Epoch 21, CIFAR-10 Batch 3:  Loss:     0.0745 Validation Accuracy: 0.721800\n",
      "Epoch 21, CIFAR-10 Batch 4:  Loss:     0.1106 Validation Accuracy: 0.724400\n",
      "Epoch 21, CIFAR-10 Batch 5:  Loss:     0.1167 Validation Accuracy: 0.716200\n",
      "Epoch 22, CIFAR-10 Batch 1:  Loss:     0.1500 Validation Accuracy: 0.713600\n",
      "Epoch 22, CIFAR-10 Batch 2:  Loss:     0.1004 Validation Accuracy: 0.716400\n",
      "Epoch 22, CIFAR-10 Batch 3:  Loss:     0.0709 Validation Accuracy: 0.714400\n",
      "Epoch 22, CIFAR-10 Batch 4:  Loss:     0.1212 Validation Accuracy: 0.722600\n",
      "Epoch 22, CIFAR-10 Batch 5:  Loss:     0.0748 Validation Accuracy: 0.717400\n",
      "Epoch 23, CIFAR-10 Batch 1:  Loss:     0.1011 Validation Accuracy: 0.720600\n",
      "Epoch 23, CIFAR-10 Batch 2:  Loss:     0.0660 Validation Accuracy: 0.713600\n",
      "Epoch 23, CIFAR-10 Batch 3:  Loss:     0.0635 Validation Accuracy: 0.721000\n",
      "Epoch 23, CIFAR-10 Batch 4:  Loss:     0.0815 Validation Accuracy: 0.719800\n",
      "Epoch 23, CIFAR-10 Batch 5:  Loss:     0.0796 Validation Accuracy: 0.721000\n",
      "Epoch 24, CIFAR-10 Batch 1:  Loss:     0.0959 Validation Accuracy: 0.713400\n",
      "Epoch 24, CIFAR-10 Batch 2:  Loss:     0.0552 Validation Accuracy: 0.717600\n",
      "Epoch 24, CIFAR-10 Batch 3:  Loss:     0.0576 Validation Accuracy: 0.705000\n",
      "Epoch 24, CIFAR-10 Batch 4:  Loss:     0.0719 Validation Accuracy: 0.723600\n",
      "Epoch 24, CIFAR-10 Batch 5:  Loss:     0.0648 Validation Accuracy: 0.724400\n",
      "Epoch 25, CIFAR-10 Batch 1:  Loss:     0.0742 Validation Accuracy: 0.716800\n",
      "Epoch 25, CIFAR-10 Batch 2:  Loss:     0.0655 Validation Accuracy: 0.720200\n",
      "Epoch 25, CIFAR-10 Batch 3:  Loss:     0.0597 Validation Accuracy: 0.717200\n",
      "Epoch 25, CIFAR-10 Batch 4:  Loss:     0.0711 Validation Accuracy: 0.717400\n",
      "Epoch 25, CIFAR-10 Batch 5:  Loss:     0.0695 Validation Accuracy: 0.718200\n",
      "Epoch 26, CIFAR-10 Batch 1:  Loss:     0.0667 Validation Accuracy: 0.719600\n",
      "Epoch 26, CIFAR-10 Batch 2:  Loss:     0.0437 Validation Accuracy: 0.717000\n",
      "Epoch 26, CIFAR-10 Batch 3:  Loss:     0.0395 Validation Accuracy: 0.722000\n",
      "Epoch 26, CIFAR-10 Batch 4:  Loss:     0.0601 Validation Accuracy: 0.719400\n",
      "Epoch 26, CIFAR-10 Batch 5:  Loss:     0.0469 Validation Accuracy: 0.723600\n",
      "Epoch 27, CIFAR-10 Batch 1:  Loss:     0.0636 Validation Accuracy: 0.720600\n",
      "Epoch 27, CIFAR-10 Batch 2:  Loss:     0.0535 Validation Accuracy: 0.719600\n",
      "Epoch 27, CIFAR-10 Batch 3:  Loss:     0.0365 Validation Accuracy: 0.711400\n",
      "Epoch 27, CIFAR-10 Batch 4:  Loss:     0.0643 Validation Accuracy: 0.719000\n",
      "Epoch 27, CIFAR-10 Batch 5:  Loss:     0.0391 Validation Accuracy: 0.721200\n",
      "Epoch 28, CIFAR-10 Batch 1:  Loss:     0.0607 Validation Accuracy: 0.712400\n",
      "Epoch 28, CIFAR-10 Batch 2:  Loss:     0.0382 Validation Accuracy: 0.716800\n",
      "Epoch 28, CIFAR-10 Batch 3:  Loss:     0.0423 Validation Accuracy: 0.702600\n",
      "Epoch 28, CIFAR-10 Batch 4:  Loss:     0.0576 Validation Accuracy: 0.720400\n",
      "Epoch 28, CIFAR-10 Batch 5:  Loss:     0.0432 Validation Accuracy: 0.726400\n",
      "Epoch 29, CIFAR-10 Batch 1:  Loss:     0.0442 Validation Accuracy: 0.720000\n",
      "Epoch 29, CIFAR-10 Batch 2:  Loss:     0.0267 Validation Accuracy: 0.723200\n",
      "Epoch 29, CIFAR-10 Batch 3:  Loss:     0.0355 Validation Accuracy: 0.701600\n",
      "Epoch 29, CIFAR-10 Batch 4:  Loss:     0.0582 Validation Accuracy: 0.714400\n",
      "Epoch 29, CIFAR-10 Batch 5:  Loss:     0.0301 Validation Accuracy: 0.721600\n",
      "Epoch 30, CIFAR-10 Batch 1:  Loss:     0.0427 Validation Accuracy: 0.727800\n",
      "Epoch 30, CIFAR-10 Batch 2:  Loss:     0.0404 Validation Accuracy: 0.720800\n",
      "Epoch 30, CIFAR-10 Batch 3:  Loss:     0.0251 Validation Accuracy: 0.724600\n",
      "Epoch 30, CIFAR-10 Batch 4:  Loss:     0.0656 Validation Accuracy: 0.716200\n",
      "Epoch 30, CIFAR-10 Batch 5:  Loss:     0.0181 Validation Accuracy: 0.722800\n",
      "Epoch 31, CIFAR-10 Batch 1:  Loss:     0.0437 Validation Accuracy: 0.722200\n",
      "Epoch 31, CIFAR-10 Batch 2:  Loss:     0.0345 Validation Accuracy: 0.724200\n",
      "Epoch 31, CIFAR-10 Batch 3:  Loss:     0.0194 Validation Accuracy: 0.727400\n",
      "Epoch 31, CIFAR-10 Batch 4:  Loss:     0.0387 Validation Accuracy: 0.716400\n",
      "Epoch 31, CIFAR-10 Batch 5:  Loss:     0.0288 Validation Accuracy: 0.722600\n",
      "Epoch 32, CIFAR-10 Batch 1:  Loss:     0.0418 Validation Accuracy: 0.724800\n",
      "Epoch 32, CIFAR-10 Batch 2:  Loss:     0.0257 Validation Accuracy: 0.721200\n",
      "Epoch 32, CIFAR-10 Batch 3:  Loss:     0.0164 Validation Accuracy: 0.728400\n",
      "Epoch 32, CIFAR-10 Batch 4:  Loss:     0.0353 Validation Accuracy: 0.722800\n",
      "Epoch 32, CIFAR-10 Batch 5:  Loss:     0.0242 Validation Accuracy: 0.723800\n",
      "Epoch 33, CIFAR-10 Batch 1:  Loss:     0.0355 Validation Accuracy: 0.722800\n",
      "Epoch 33, CIFAR-10 Batch 2:  Loss:     0.0255 Validation Accuracy: 0.718200\n",
      "Epoch 33, CIFAR-10 Batch 3:  Loss:     0.0215 Validation Accuracy: 0.722600\n",
      "Epoch 33, CIFAR-10 Batch 4:  Loss:     0.0352 Validation Accuracy: 0.716600\n",
      "Epoch 33, CIFAR-10 Batch 5:  Loss:     0.0154 Validation Accuracy: 0.720800\n",
      "Epoch 34, CIFAR-10 Batch 1:  Loss:     0.0299 Validation Accuracy: 0.722600\n",
      "Epoch 34, CIFAR-10 Batch 2:  Loss:     0.0312 Validation Accuracy: 0.721200\n",
      "Epoch 34, CIFAR-10 Batch 3:  Loss:     0.0204 Validation Accuracy: 0.727000\n",
      "Epoch 34, CIFAR-10 Batch 4:  Loss:     0.0233 Validation Accuracy: 0.719000\n",
      "Epoch 34, CIFAR-10 Batch 5:  Loss:     0.0286 Validation Accuracy: 0.725800\n",
      "Epoch 35, CIFAR-10 Batch 1:  Loss:     0.0320 Validation Accuracy: 0.719800\n",
      "Epoch 35, CIFAR-10 Batch 2:  Loss:     0.0289 Validation Accuracy: 0.716400\n",
      "Epoch 35, CIFAR-10 Batch 3:  Loss:     0.0125 Validation Accuracy: 0.731000\n",
      "Epoch 35, CIFAR-10 Batch 4:  Loss:     0.0256 Validation Accuracy: 0.732600\n",
      "Epoch 35, CIFAR-10 Batch 5:  Loss:     0.0191 Validation Accuracy: 0.731600\n",
      "Epoch 36, CIFAR-10 Batch 1:  Loss:     0.0469 Validation Accuracy: 0.721600\n",
      "Epoch 36, CIFAR-10 Batch 2:  Loss:     0.0197 Validation Accuracy: 0.717400\n",
      "Epoch 36, CIFAR-10 Batch 3:  Loss:     0.0099 Validation Accuracy: 0.727800\n",
      "Epoch 36, CIFAR-10 Batch 4:  Loss:     0.0294 Validation Accuracy: 0.722600\n",
      "Epoch 36, CIFAR-10 Batch 5:  Loss:     0.0107 Validation Accuracy: 0.729200\n",
      "Epoch 37, CIFAR-10 Batch 1:  Loss:     0.0366 Validation Accuracy: 0.722000\n",
      "Epoch 37, CIFAR-10 Batch 2:  Loss:     0.0222 Validation Accuracy: 0.719200\n",
      "Epoch 37, CIFAR-10 Batch 3:  Loss:     0.0111 Validation Accuracy: 0.726400\n",
      "Epoch 37, CIFAR-10 Batch 4:  Loss:     0.0173 Validation Accuracy: 0.729400\n",
      "Epoch 37, CIFAR-10 Batch 5:  Loss:     0.0146 Validation Accuracy: 0.721800\n",
      "Epoch 38, CIFAR-10 Batch 1:  Loss:     0.0191 Validation Accuracy: 0.722200\n",
      "Epoch 38, CIFAR-10 Batch 2:  Loss:     0.0167 Validation Accuracy: 0.720200\n",
      "Epoch 38, CIFAR-10 Batch 3:  Loss:     0.0080 Validation Accuracy: 0.729400\n",
      "Epoch 38, CIFAR-10 Batch 4:  Loss:     0.0109 Validation Accuracy: 0.715600\n",
      "Epoch 38, CIFAR-10 Batch 5:  Loss:     0.0139 Validation Accuracy: 0.717200\n",
      "Epoch 39, CIFAR-10 Batch 1:  Loss:     0.0252 Validation Accuracy: 0.722200\n",
      "Epoch 39, CIFAR-10 Batch 2:  Loss:     0.0247 Validation Accuracy: 0.719200\n",
      "Epoch 39, CIFAR-10 Batch 3:  Loss:     0.0097 Validation Accuracy: 0.731000\n",
      "Epoch 39, CIFAR-10 Batch 4:  Loss:     0.0432 Validation Accuracy: 0.714400\n",
      "Epoch 39, CIFAR-10 Batch 5:  Loss:     0.0062 Validation Accuracy: 0.731800\n",
      "Epoch 40, CIFAR-10 Batch 1:  Loss:     0.0217 Validation Accuracy: 0.720000\n",
      "Epoch 40, CIFAR-10 Batch 2:  Loss:     0.0169 Validation Accuracy: 0.716400\n",
      "Epoch 40, CIFAR-10 Batch 3:  Loss:     0.0063 Validation Accuracy: 0.725000\n",
      "Epoch 40, CIFAR-10 Batch 4:  Loss:     0.0254 Validation Accuracy: 0.717800\n",
      "Epoch 40, CIFAR-10 Batch 5:  Loss:     0.0075 Validation Accuracy: 0.722800\n",
      "Epoch 41, CIFAR-10 Batch 1:  Loss:     0.0096 Validation Accuracy: 0.721800\n",
      "Epoch 41, CIFAR-10 Batch 2:  Loss:     0.0104 Validation Accuracy: 0.719400\n",
      "Epoch 41, CIFAR-10 Batch 3:  Loss:     0.0063 Validation Accuracy: 0.730600\n",
      "Epoch 41, CIFAR-10 Batch 4:  Loss:     0.0230 Validation Accuracy: 0.724000\n",
      "Epoch 41, CIFAR-10 Batch 5:  Loss:     0.0037 Validation Accuracy: 0.724400\n",
      "Epoch 42, CIFAR-10 Batch 1:  Loss:     0.0111 Validation Accuracy: 0.724000\n",
      "Epoch 42, CIFAR-10 Batch 2:  Loss:     0.0131 Validation Accuracy: 0.724000\n",
      "Epoch 42, CIFAR-10 Batch 3:  Loss:     0.0058 Validation Accuracy: 0.724600\n",
      "Epoch 42, CIFAR-10 Batch 4:  Loss:     0.0203 Validation Accuracy: 0.721200\n",
      "Epoch 42, CIFAR-10 Batch 5:  Loss:     0.0062 Validation Accuracy: 0.723200\n",
      "Epoch 43, CIFAR-10 Batch 1:  Loss:     0.0144 Validation Accuracy: 0.730600\n",
      "Epoch 43, CIFAR-10 Batch 2:  Loss:     0.0098 Validation Accuracy: 0.719400\n",
      "Epoch 43, CIFAR-10 Batch 3:  Loss:     0.0065 Validation Accuracy: 0.724400\n",
      "Epoch 43, CIFAR-10 Batch 4:  Loss:     0.0122 Validation Accuracy: 0.721400\n",
      "Epoch 43, CIFAR-10 Batch 5:  Loss:     0.0049 Validation Accuracy: 0.722600\n",
      "Epoch 44, CIFAR-10 Batch 1:  Loss:     0.0114 Validation Accuracy: 0.716400\n",
      "Epoch 44, CIFAR-10 Batch 2:  Loss:     0.0113 Validation Accuracy: 0.717800\n",
      "Epoch 44, CIFAR-10 Batch 3:  Loss:     0.0063 Validation Accuracy: 0.730800\n",
      "Epoch 44, CIFAR-10 Batch 4:  Loss:     0.0202 Validation Accuracy: 0.722200\n",
      "Epoch 44, CIFAR-10 Batch 5:  Loss:     0.0106 Validation Accuracy: 0.725000\n",
      "Epoch 45, CIFAR-10 Batch 1:  Loss:     0.0162 Validation Accuracy: 0.728000\n",
      "Epoch 45, CIFAR-10 Batch 2:  Loss:     0.0105 Validation Accuracy: 0.716400\n",
      "Epoch 45, CIFAR-10 Batch 3:  Loss:     0.0061 Validation Accuracy: 0.722800\n",
      "Epoch 45, CIFAR-10 Batch 4:  Loss:     0.0169 Validation Accuracy: 0.715000\n",
      "Epoch 45, CIFAR-10 Batch 5:  Loss:     0.0073 Validation Accuracy: 0.724400\n",
      "Epoch 46, CIFAR-10 Batch 1:  Loss:     0.0148 Validation Accuracy: 0.727800\n",
      "Epoch 46, CIFAR-10 Batch 2:  Loss:     0.0111 Validation Accuracy: 0.720000\n",
      "Epoch 46, CIFAR-10 Batch 3:  Loss:     0.0043 Validation Accuracy: 0.722000\n",
      "Epoch 46, CIFAR-10 Batch 4:  Loss:     0.0220 Validation Accuracy: 0.718800\n",
      "Epoch 46, CIFAR-10 Batch 5:  Loss:     0.0036 Validation Accuracy: 0.721600\n",
      "Epoch 47, CIFAR-10 Batch 1:  Loss:     0.0133 Validation Accuracy: 0.730200\n",
      "Epoch 47, CIFAR-10 Batch 2:  Loss:     0.0087 Validation Accuracy: 0.722800\n",
      "Epoch 47, CIFAR-10 Batch 3:  Loss:     0.0245 Validation Accuracy: 0.693000\n",
      "Epoch 47, CIFAR-10 Batch 4:  Loss:     0.0180 Validation Accuracy: 0.716600\n",
      "Epoch 47, CIFAR-10 Batch 5:  Loss:     0.0036 Validation Accuracy: 0.725200\n",
      "Epoch 48, CIFAR-10 Batch 1:  Loss:     0.0085 Validation Accuracy: 0.728000\n",
      "Epoch 48, CIFAR-10 Batch 2:  Loss:     0.0066 Validation Accuracy: 0.720800\n",
      "Epoch 48, CIFAR-10 Batch 3:  Loss:     0.0045 Validation Accuracy: 0.712400\n",
      "Epoch 48, CIFAR-10 Batch 4:  Loss:     0.0223 Validation Accuracy: 0.716600\n",
      "Epoch 48, CIFAR-10 Batch 5:  Loss:     0.0074 Validation Accuracy: 0.719600\n",
      "Epoch 49, CIFAR-10 Batch 1:  Loss:     0.0087 Validation Accuracy: 0.724600\n",
      "Epoch 49, CIFAR-10 Batch 2:  Loss:     0.0074 Validation Accuracy: 0.724400\n",
      "Epoch 49, CIFAR-10 Batch 3:  Loss:     0.0061 Validation Accuracy: 0.724400\n",
      "Epoch 49, CIFAR-10 Batch 4:  Loss:     0.0333 Validation Accuracy: 0.715000\n",
      "Epoch 49, CIFAR-10 Batch 5:  Loss:     0.0061 Validation Accuracy: 0.723600\n",
      "Epoch 50, CIFAR-10 Batch 1:  Loss:     0.0115 Validation Accuracy: 0.716600\n",
      "Epoch 50, CIFAR-10 Batch 2:  Loss:     0.0084 Validation Accuracy: 0.722600\n",
      "Epoch 50, CIFAR-10 Batch 3:  Loss:     0.0080 Validation Accuracy: 0.715400\n",
      "Epoch 50, CIFAR-10 Batch 4:  Loss:     0.0100 Validation Accuracy: 0.720600\n",
      "Epoch 50, CIFAR-10 Batch 5:  Loss:     0.0046 Validation Accuracy: 0.728000\n",
      "Epoch 51, CIFAR-10 Batch 1:  Loss:     0.0164 Validation Accuracy: 0.727400\n",
      "Epoch 51, CIFAR-10 Batch 2:  Loss:     0.0048 Validation Accuracy: 0.716600\n",
      "Epoch 51, CIFAR-10 Batch 3:  Loss:     0.0060 Validation Accuracy: 0.715800\n",
      "Epoch 51, CIFAR-10 Batch 4:  Loss:     0.0168 Validation Accuracy: 0.729000\n",
      "Epoch 51, CIFAR-10 Batch 5:  Loss:     0.0067 Validation Accuracy: 0.728400\n",
      "Epoch 52, CIFAR-10 Batch 1:  Loss:     0.0091 Validation Accuracy: 0.724800\n",
      "Epoch 52, CIFAR-10 Batch 2:  Loss:     0.0029 Validation Accuracy: 0.721200\n",
      "Epoch 52, CIFAR-10 Batch 3:  Loss:     0.0057 Validation Accuracy: 0.715400\n",
      "Epoch 52, CIFAR-10 Batch 4:  Loss:     0.0166 Validation Accuracy: 0.717400\n",
      "Epoch 52, CIFAR-10 Batch 5:  Loss:     0.0026 Validation Accuracy: 0.723600\n",
      "Epoch 53, CIFAR-10 Batch 1:  Loss:     0.0108 Validation Accuracy: 0.717800\n",
      "Epoch 53, CIFAR-10 Batch 2:  Loss:     0.0033 Validation Accuracy: 0.725200\n",
      "Epoch 53, CIFAR-10 Batch 3:  Loss:     0.0076 Validation Accuracy: 0.719600\n",
      "Epoch 53, CIFAR-10 Batch 4:  Loss:     0.0089 Validation Accuracy: 0.724600\n",
      "Epoch 53, CIFAR-10 Batch 5:  Loss:     0.0012 Validation Accuracy: 0.730000\n",
      "Epoch 54, CIFAR-10 Batch 1:  Loss:     0.0097 Validation Accuracy: 0.716600\n",
      "Epoch 54, CIFAR-10 Batch 2:  Loss:     0.0056 Validation Accuracy: 0.727600\n",
      "Epoch 54, CIFAR-10 Batch 3:  Loss:     0.0036 Validation Accuracy: 0.725600\n",
      "Epoch 54, CIFAR-10 Batch 4:  Loss:     0.0056 Validation Accuracy: 0.725200\n",
      "Epoch 54, CIFAR-10 Batch 5:  Loss:     0.0037 Validation Accuracy: 0.723000\n",
      "Epoch 55, CIFAR-10 Batch 1:  Loss:     0.0057 Validation Accuracy: 0.719800\n",
      "Epoch 55, CIFAR-10 Batch 2:  Loss:     0.0049 Validation Accuracy: 0.726200\n",
      "Epoch 55, CIFAR-10 Batch 3:  Loss:     0.0036 Validation Accuracy: 0.722000\n",
      "Epoch 55, CIFAR-10 Batch 4:  Loss:     0.0087 Validation Accuracy: 0.724400\n",
      "Epoch 55, CIFAR-10 Batch 5:  Loss:     0.0049 Validation Accuracy: 0.722400\n",
      "Epoch 56, CIFAR-10 Batch 1:  Loss:     0.0052 Validation Accuracy: 0.724000\n",
      "Epoch 56, CIFAR-10 Batch 2:  Loss:     0.0055 Validation Accuracy: 0.731000\n",
      "Epoch 56, CIFAR-10 Batch 3:  Loss:     0.0021 Validation Accuracy: 0.728200\n",
      "Epoch 56, CIFAR-10 Batch 4:  Loss:     0.0107 Validation Accuracy: 0.728200\n",
      "Epoch 56, CIFAR-10 Batch 5:  Loss:     0.0013 Validation Accuracy: 0.722000\n",
      "Epoch 57, CIFAR-10 Batch 1:  Loss:     0.0059 Validation Accuracy: 0.722800\n",
      "Epoch 57, CIFAR-10 Batch 2:  Loss:     0.0090 Validation Accuracy: 0.730400\n",
      "Epoch 57, CIFAR-10 Batch 3:  Loss:     0.0028 Validation Accuracy: 0.720000\n",
      "Epoch 57, CIFAR-10 Batch 4:  Loss:     0.0035 Validation Accuracy: 0.733200\n",
      "Epoch 57, CIFAR-10 Batch 5:  Loss:     0.0016 Validation Accuracy: 0.726000\n",
      "Epoch 58, CIFAR-10 Batch 1:  Loss:     0.0033 Validation Accuracy: 0.724800\n",
      "Epoch 58, CIFAR-10 Batch 2:  Loss:     0.0030 Validation Accuracy: 0.725800\n",
      "Epoch 58, CIFAR-10 Batch 3:  Loss:     0.0021 Validation Accuracy: 0.732200\n",
      "Epoch 58, CIFAR-10 Batch 4:  Loss:     0.0035 Validation Accuracy: 0.724800\n",
      "Epoch 58, CIFAR-10 Batch 5:  Loss:     0.0014 Validation Accuracy: 0.725600\n",
      "Epoch 59, CIFAR-10 Batch 1:  Loss:     0.0035 Validation Accuracy: 0.731000\n",
      "Epoch 59, CIFAR-10 Batch 2:  Loss:     0.0056 Validation Accuracy: 0.727000\n",
      "Epoch 59, CIFAR-10 Batch 3:  Loss:     0.0009 Validation Accuracy: 0.729600\n",
      "Epoch 59, CIFAR-10 Batch 4:  Loss:     0.0090 Validation Accuracy: 0.724000\n",
      "Epoch 59, CIFAR-10 Batch 5:  Loss:     0.0022 Validation Accuracy: 0.726000\n",
      "Epoch 60, CIFAR-10 Batch 1:  Loss:     0.0036 Validation Accuracy: 0.728000\n",
      "Epoch 60, CIFAR-10 Batch 2:  Loss:     0.0058 Validation Accuracy: 0.726800\n",
      "Epoch 60, CIFAR-10 Batch 3:  Loss:     0.0013 Validation Accuracy: 0.731200\n",
      "Epoch 60, CIFAR-10 Batch 4:  Loss:     0.0031 Validation Accuracy: 0.723800\n",
      "Epoch 60, CIFAR-10 Batch 5:  Loss:     0.0008 Validation Accuracy: 0.722800\n",
      "Epoch 61, CIFAR-10 Batch 1:  Loss:     0.0090 Validation Accuracy: 0.721200\n",
      "Epoch 61, CIFAR-10 Batch 2:  Loss:     0.0028 Validation Accuracy: 0.723800\n",
      "Epoch 61, CIFAR-10 Batch 3:  Loss:     0.0040 Validation Accuracy: 0.725800\n",
      "Epoch 61, CIFAR-10 Batch 4:  Loss:     0.0076 Validation Accuracy: 0.724000\n",
      "Epoch 61, CIFAR-10 Batch 5:  Loss:     0.0013 Validation Accuracy: 0.729000\n",
      "Epoch 62, CIFAR-10 Batch 1:  Loss:     0.0068 Validation Accuracy: 0.718600\n",
      "Epoch 62, CIFAR-10 Batch 2:  Loss:     0.0035 Validation Accuracy: 0.729400\n",
      "Epoch 62, CIFAR-10 Batch 3:  Loss:     0.0030 Validation Accuracy: 0.723600\n",
      "Epoch 62, CIFAR-10 Batch 4:  Loss:     0.0048 Validation Accuracy: 0.717200\n",
      "Epoch 62, CIFAR-10 Batch 5:  Loss:     0.0017 Validation Accuracy: 0.713200\n",
      "Epoch 63, CIFAR-10 Batch 1:  Loss:     0.0073 Validation Accuracy: 0.720800\n",
      "Epoch 63, CIFAR-10 Batch 2:  Loss:     0.0037 Validation Accuracy: 0.722400\n",
      "Epoch 63, CIFAR-10 Batch 3:  Loss:     0.0018 Validation Accuracy: 0.720600\n",
      "Epoch 63, CIFAR-10 Batch 4:  Loss:     0.0060 Validation Accuracy: 0.720200\n",
      "Epoch 63, CIFAR-10 Batch 5:  Loss:     0.0006 Validation Accuracy: 0.724400\n",
      "Epoch 64, CIFAR-10 Batch 1:  Loss:     0.0065 Validation Accuracy: 0.716400\n",
      "Epoch 64, CIFAR-10 Batch 2:  Loss:     0.0016 Validation Accuracy: 0.723200\n",
      "Epoch 64, CIFAR-10 Batch 3:  Loss:     0.0013 Validation Accuracy: 0.723400\n",
      "Epoch 64, CIFAR-10 Batch 4:  Loss:     0.0060 Validation Accuracy: 0.725000\n",
      "Epoch 64, CIFAR-10 Batch 5:  Loss:     0.0006 Validation Accuracy: 0.727800\n",
      "Epoch 65, CIFAR-10 Batch 1:  Loss:     0.0035 Validation Accuracy: 0.730400\n",
      "Epoch 65, CIFAR-10 Batch 2:  Loss:     0.0125 Validation Accuracy: 0.723400\n",
      "Epoch 65, CIFAR-10 Batch 3:  Loss:     0.0024 Validation Accuracy: 0.727800\n",
      "Epoch 65, CIFAR-10 Batch 4:  Loss:     0.0070 Validation Accuracy: 0.721800\n",
      "Epoch 65, CIFAR-10 Batch 5:  Loss:     0.0004 Validation Accuracy: 0.726200\n",
      "Epoch 66, CIFAR-10 Batch 1:  Loss:     0.0039 Validation Accuracy: 0.725200\n",
      "Epoch 66, CIFAR-10 Batch 2:  Loss:     0.0026 Validation Accuracy: 0.724600\n",
      "Epoch 66, CIFAR-10 Batch 3:  Loss:     0.0026 Validation Accuracy: 0.729200\n",
      "Epoch 66, CIFAR-10 Batch 4:  Loss:     0.0083 Validation Accuracy: 0.716000\n",
      "Epoch 66, CIFAR-10 Batch 5:  Loss:     0.0013 Validation Accuracy: 0.721200\n",
      "Epoch 67, CIFAR-10 Batch 1:  Loss:     0.0015 Validation Accuracy: 0.718800\n",
      "Epoch 67, CIFAR-10 Batch 2:  Loss:     0.0029 Validation Accuracy: 0.728400\n",
      "Epoch 67, CIFAR-10 Batch 3:  Loss:     0.0015 Validation Accuracy: 0.726400\n",
      "Epoch 67, CIFAR-10 Batch 4:  Loss:     0.0072 Validation Accuracy: 0.717600\n",
      "Epoch 67, CIFAR-10 Batch 5:  Loss:     0.0030 Validation Accuracy: 0.721200\n",
      "Epoch 68, CIFAR-10 Batch 1:  Loss:     0.0028 Validation Accuracy: 0.728200\n",
      "Epoch 68, CIFAR-10 Batch 2:  Loss:     0.0024 Validation Accuracy: 0.723800\n",
      "Epoch 68, CIFAR-10 Batch 3:  Loss:     0.0014 Validation Accuracy: 0.727200\n",
      "Epoch 68, CIFAR-10 Batch 4:  Loss:     0.0023 Validation Accuracy: 0.724600\n",
      "Epoch 68, CIFAR-10 Batch 5:  Loss:     0.0010 Validation Accuracy: 0.718400\n",
      "Epoch 69, CIFAR-10 Batch 1:  Loss:     0.0043 Validation Accuracy: 0.724400\n",
      "Epoch 69, CIFAR-10 Batch 2:  Loss:     0.0015 Validation Accuracy: 0.726800\n",
      "Epoch 69, CIFAR-10 Batch 3:  Loss:     0.0032 Validation Accuracy: 0.719400\n",
      "Epoch 69, CIFAR-10 Batch 4:  Loss:     0.0046 Validation Accuracy: 0.723200\n",
      "Epoch 69, CIFAR-10 Batch 5:  Loss:     0.0007 Validation Accuracy: 0.725400\n",
      "Epoch 70, CIFAR-10 Batch 1:  Loss:     0.0011 Validation Accuracy: 0.723400\n",
      "Epoch 70, CIFAR-10 Batch 2:  Loss:     0.0010 Validation Accuracy: 0.728600\n",
      "Epoch 70, CIFAR-10 Batch 3:  Loss:     0.0023 Validation Accuracy: 0.723800\n",
      "Epoch 70, CIFAR-10 Batch 4:  Loss:     0.0026 Validation Accuracy: 0.724800\n",
      "Epoch 70, CIFAR-10 Batch 5:  Loss:     0.0008 Validation Accuracy: 0.719600\n"
     ]
    }
   ],
   "source": [
    "\"\"\"\n",
    "DON'T MODIFY ANYTHING IN THIS CELL\n",
    "\"\"\"\n",
    "save_model_path = './image_classification'\n",
    "\n",
    "print('Training...')\n",
    "with tf.Session() as sess:\n",
    "    # Initializing the variables\n",
    "    sess.run(tf.global_variables_initializer())\n",
    "    \n",
    "    # Training cycle\n",
    "    for epoch in range(epochs):\n",
    "        # Loop over all batches\n",
    "        n_batches = 5\n",
    "        for batch_i in range(1, n_batches + 1):\n",
    "            for batch_features, batch_labels in helper.load_preprocess_training_batch(batch_i, batch_size):\n",
    "                train_neural_network(sess, optimizer, keep_probability, batch_features, batch_labels)\n",
    "            print('Epoch {:>2}, CIFAR-10 Batch {}:  '.format(epoch + 1, batch_i), end='')\n",
    "            print_stats(sess, batch_features, batch_labels, cost, accuracy)\n",
    "            \n",
    "    # Save Model\n",
    "    saver = tf.train.Saver()\n",
    "    save_path = saver.save(sess, save_model_path)"
   ]
  },
  {
   "cell_type": "markdown",
   "metadata": {
    "deletable": true,
    "editable": true
   },
   "source": [
    "# Checkpoint\n",
    "The model has been saved to disk.\n",
    "## Test Model\n",
    "Test your model against the test dataset.  This will be your final accuracy. You should have an accuracy greater than 50%. If you don't, keep tweaking the model architecture and parameters."
   ]
  },
  {
   "cell_type": "code",
   "execution_count": 26,
   "metadata": {
    "collapsed": false,
    "deletable": true,
    "editable": true
   },
   "outputs": [
    {
     "name": "stdout",
     "output_type": "stream",
     "text": [
      "Testing Accuracy: 0.7095530063291139\n",
      "\n"
     ]
    },
    {
     "data": {
      "image/png": "[encoded data removed]",
      "text/plain": [
       "<matplotlib.figure.Figure at 0x7f457fe25f98>"
      ]
     },
     "metadata": {
      "image/png": {
       "height": 319,
       "width": 355
      }
     },
     "output_type": "display_data"
    }
   ],
   "source": [
    "\"\"\"\n",
    "DON'T MODIFY ANYTHING IN THIS CELL\n",
    "\"\"\"\n",
    "%matplotlib inline\n",
    "%config InlineBackend.figure_format = 'retina'\n",
    "\n",
    "import tensorflow as tf\n",
    "import pickle\n",
    "import helper\n",
    "import random\n",
    "\n",
    "# Set batch size if not already set\n",
    "try:\n",
    "    if batch_size:\n",
    "        pass\n",
    "except NameError:\n",
    "    batch_size = 64\n",
    "\n",
    "save_model_path = './image_classification'\n",
    "n_samples = 4\n",
    "top_n_predictions = 3\n",
    "\n",
    "def test_model():\n",
    "    \"\"\"\n",
    "    Test the saved model against the test dataset\n",
    "    \"\"\"\n",
    "\n",
    "    test_features, test_labels = pickle.load(open('preprocess_test.p', mode='rb'))\n",
    "    loaded_graph = tf.Graph()\n",
    "\n",
    "    with tf.Session(graph=loaded_graph) as sess:\n",
    "        # Load model\n",
    "        loader = tf.train.import_meta_graph(save_model_path + '.meta')\n",
    "        loader.restore(sess, save_model_path)\n",
    "\n",
    "        # Get Tensors from loaded model\n",
    "        loaded_x = loaded_graph.get_tensor_by_name('x:0')\n",
    "        loaded_y = loaded_graph.get_tensor_by_name('y:0')\n",
    "        loaded_keep_prob = loaded_graph.get_tensor_by_name('keep_prob:0')\n",
    "        loaded_logits = loaded_graph.get_tensor_by_name('logits:0')\n",
    "        loaded_acc = loaded_graph.get_tensor_by_name('accuracy:0')\n",
    "        \n",
    "        # Get accuracy in batches for memory limitations\n",
    "        test_batch_acc_total = 0\n",
    "        test_batch_count = 0\n",
    "        \n",
    "        for test_feature_batch, test_label_batch in helper.batch_features_labels(test_features, test_labels, batch_size):\n",
    "            test_batch_acc_total += sess.run(\n",
    "                loaded_acc,\n",
    "                feed_dict={loaded_x: test_feature_batch, loaded_y: test_label_batch, loaded_keep_prob: 1.0})\n",
    "            test_batch_count += 1\n",
    "\n",
    "        print('Testing Accuracy: {}\\n'.format(test_batch_acc_total/test_batch_count))\n",
    "\n",
    "        # Print Random Samples\n",
    "        random_test_features, random_test_labels = tuple(zip(*random.sample(list(zip(test_features, test_labels)), n_samples)))\n",
    "        random_test_predictions = sess.run(\n",
    "            tf.nn.top_k(tf.nn.softmax(loaded_logits), top_n_predictions),\n",
    "            feed_dict={loaded_x: random_test_features, loaded_y: random_test_labels, loaded_keep_prob: 1.0})\n",
    "        helper.display_image_predictions(random_test_features, random_test_labels, random_test_predictions)\n",
    "\n",
    "\n",
    "test_model()"
   ]
  },
  {
   "cell_type": "markdown",
   "metadata": {
    "deletable": true,
    "editable": true
   },
   "source": [
    "## Why 50-80% Accuracy?\n",
    "You might be wondering why you can't get an accuracy any higher. First things first, 50% isn't bad for a simple CNN.  Pure guessing would get you 10% accuracy. However, you might notice people are getting scores [well above 80%](http://rodrigob.github.io/are_we_there_yet/build/classification_datasets_results.html#43494641522d3130).  That's because we haven't taught you all there is to know about neural networks. We still need to cover a few more techniques.\n",
    "## Submitting This Project\n",
    "When submitting this project, make sure to run all the cells before saving the notebook.  Save the notebook file as \"dlnd_image_classification.ipynb\" and save it as a HTML file under \"File\" -> \"Download as\".  Include the \"helper.py\" and \"problem_unittests.py\" files in your submission."
   ]
  }
 ],
 "metadata": {
  "kernelspec": {
   "display_name": "Python 3",
   "language": "python",
   "name": "python3"
  },
  "language_info": {
   "codemirror_mode": {
    "name": "ipython",
    "version": 3
   },
   "file_extension": ".py",
   "mimetype": "text/x-python",
   "name": "python",
   "nbconvert_exporter": "python",
   "pygments_lexer": "ipython3",
   "version": "3.5.2"
  },
  "widgets": {
   "state": {},
   "version": "1.1.2"
  }
 },
 "nbformat": 4,
 "nbformat_minor": 0
}
